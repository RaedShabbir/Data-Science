{
 "cells": [
  {
   "cell_type": "markdown",
   "metadata": {},
   "source": [
    "Implemention and exploration of RNN, GRU, and LSTM using a Tale of Two Cities by Charles Dickens, taken from the Project Gutenburg corpus dataset. \n",
    "\n",
    "The entire dataset can be found here:<https://web.eecs.umich.edu/~lahiri/gutenberg_dataset.html>\n",
    "This is a collection of 3,036 English books written by 142 authors"
   ]
  },
  {
   "cell_type": "markdown",
   "metadata": {},
   "source": [
    "## Import Libraries "
   ]
  },
  {
   "cell_type": "code",
   "execution_count": 1,
   "metadata": {},
   "outputs": [],
   "source": [
    "%matplotlib inline\n",
    "%reload_ext autoreload\n",
    "%autoreload 2\n",
    "\n",
    "\n",
    "from fastai.io import *\n",
    "from fastai.conv_learner import *\n",
    "from fastai.column_data import *"
   ]
  },
  {
   "cell_type": "markdown",
   "metadata": {},
   "source": [
    "## Preparing Data"
   ]
  },
  {
   "cell_type": "code",
   "execution_count": 2,
   "metadata": {},
   "outputs": [],
   "source": [
    "PATH = \"data/dickens/\""
   ]
  },
  {
   "cell_type": "code",
   "execution_count": 3,
   "metadata": {},
   "outputs": [],
   "source": [
    "works_list = [i for i in os.listdir(f\"./{PATH}\")]\n"
   ]
  },
  {
   "cell_type": "code",
   "execution_count": 5,
   "metadata": {},
   "outputs": [
    {
     "data": {
      "text/plain": [
       "'Charles Dickens___A Tale of Two Cities.txt'"
      ]
     },
     "execution_count": 5,
     "metadata": {},
     "output_type": "execute_result"
    }
   ],
   "source": [
    "works_list[4]"
   ]
  },
  {
   "cell_type": "code",
   "execution_count": 7,
   "metadata": {},
   "outputs": [
    {
     "name": "stdout",
     "output_type": "stream",
     "text": [
      "757228\n"
     ]
    }
   ],
   "source": [
    "text = open(f'{PATH}/{works_list[4]}').read()\n",
    "print (len(text))"
   ]
  },
  {
   "cell_type": "code",
   "execution_count": 8,
   "metadata": {},
   "outputs": [],
   "source": [
    "text = text[1900:] #remove table of contents "
   ]
  },
  {
   "cell_type": "code",
   "execution_count": 9,
   "metadata": {},
   "outputs": [
    {
     "name": "stdout",
     "output_type": "stream",
     "text": [
      "The total number of chars:  74\n",
      "\n",
      " ['\\n', ' ', '!', '\"', \"'\", '(', ')', '*', ',', '-', '.', '1', '2', '5', '6', '7', '9', ':', ';', '?', 'A', 'B', 'C', 'D', 'E', 'F', 'G', 'H', 'I', 'J', 'K', 'L', 'M', 'N', 'O', 'P', 'Q', 'R', 'S', 'T', 'U', 'V', 'W', 'X', 'Y', '_', 'a', 'b', 'c', 'd', 'e', 'f', 'g', 'h', 'i', 'j', 'k', 'l', 'm', 'n', 'o', 'p', 'q', 'r', 's', 't', 'u', 'v', 'w', 'x', 'y', 'z', '©', 'Ã']\n"
     ]
    }
   ],
   "source": [
    "#create a list from the set (which is an unordered collection of unique elements)\n",
    "#sort the list in ascending order\n",
    "chars = sorted(list(set(text)))\n",
    "vocab_size = len(chars)\n",
    "print (\"The total number of chars: \", vocab_size)\n",
    "print ('\\n',chars)"
   ]
  },
  {
   "cell_type": "code",
   "execution_count": 10,
   "metadata": {},
   "outputs": [],
   "source": [
    "#inserts 0 character \n",
    "chars.insert(0, \"\\0\")"
   ]
  },
  {
   "cell_type": "code",
   "execution_count": 11,
   "metadata": {},
   "outputs": [],
   "source": [
    "#creates mapping for each character to an index and vice versa \n",
    "char_indices = dict((c,i) for i,c in enumerate(chars))\n",
    "indices_char = dict((i,c) for i,c in enumerate(chars))"
   ]
  },
  {
   "cell_type": "code",
   "execution_count": 12,
   "metadata": {},
   "outputs": [
    {
     "data": {
      "text/plain": [
       "[9, 1, 55, 66, 2, 69, 47, 65, 2, 66]"
      ]
     },
     "execution_count": 12,
     "metadata": {},
     "output_type": "execute_result"
    }
   ],
   "source": [
    "#find indexes for all characters in text \n",
    "idxs = [char_indices[c] for c in text]\n",
    "idxs[:10]"
   ]
  },
  {
   "cell_type": "code",
   "execution_count": 13,
   "metadata": {},
   "outputs": [],
   "source": [
    "#creating data with 3 characters being skipped in each dataset\n",
    "#so c1_dat would have first letter, then skip to 4th,..\n",
    "#second ataset would have second letter, then skip to 5th \n",
    "#later we will create sets that do not have overlapping info. \n",
    "char_skip = 3\n",
    "c1_dat = [idxs[i] for i in range(0,len(idxs)-char_skip, char_skip)]\n",
    "c2_dat = [idxs[i+1] for i in range(0,len(idxs)-char_skip, char_skip)]\n",
    "c3_dat = [idxs[i+2] for i in range(0,len(idxs)-char_skip, char_skip)]\n",
    "c4_dat = [idxs[i+3] for i in range(0,len(idxs)-char_skip, char_skip)]\n"
   ]
  },
  {
   "cell_type": "code",
   "execution_count": 14,
   "metadata": {},
   "outputs": [],
   "source": [
    "#create 1d numpy arrays from the above lists \n",
    "x1 = np.stack(c1_dat)\n",
    "x2 = np.stack(c2_dat)\n",
    "x3 = np.stack(c3_dat)\n",
    "y = np.stack(c4_dat)"
   ]
  },
  {
   "cell_type": "code",
   "execution_count": 15,
   "metadata": {
    "scrolled": true
   },
   "outputs": [
    {
     "data": {
      "text/plain": [
       "(array([ 9, 66, 47, 66]),\n",
       " array([ 1,  2, 65, 54]),\n",
       " array([55, 69,  2, 51]),\n",
       " array([66, 47, 66,  2]))"
      ]
     },
     "execution_count": 15,
     "metadata": {},
     "output_type": "execute_result"
    }
   ],
   "source": [
    "#as can be seen, the 2nd element in x1 (character 4) is the 1st element in y \n",
    "#which starts at character 4.... \n",
    "x1[:4],x2[:4],x3[:4],y[:4]"
   ]
  },
  {
   "cell_type": "code",
   "execution_count": 16,
   "metadata": {},
   "outputs": [
    {
     "data": {
      "text/plain": [
       "',\\nit was the worst of times,\\nit was the age of wisdom,\\nit was the age of foolishness,\\nit was the epoch of belief,\\nit was the epoch of incredulity,\\nit was the season of Light,\\nit was the season of Darkness,\\nit was the spring of hope,\\nit was the winter of despair,\\nwe had everything before us,\\nwe had nothing before us,\\nwe were all going direct to Heaven,\\nwe were all going direct the other way--\\nin short, the period was so far like the present period, that some of\\nits noisiest authorities insisted o'"
      ]
     },
     "execution_count": 16,
     "metadata": {},
     "output_type": "execute_result"
    }
   ],
   "source": [
    "#recreate and print out as a sanity check\n",
    "dat_text_1 = [indices_char[c] for c in x1]\n",
    "dat_text_2 = [indices_char[c] for c in x2]\n",
    "dat_text_3 = [indices_char[c] for c in x3]\n",
    "dat_text_4 = [indices_char[c] for c in y]\n",
    "\n",
    "recreate = []\n",
    "for i in range(0,len(x1)):\n",
    "    for element in [dat_text_1,dat_text_2,dat_text_3]:\n",
    "        recreate.append(element[i])\n",
    "\n",
    "\"\".join(recreate)[:500]"
   ]
  },
  {
   "cell_type": "code",
   "execution_count": 17,
   "metadata": {},
   "outputs": [
    {
     "data": {
      "text/plain": [
       "((251775,), (251775,))"
      ]
     },
     "execution_count": 17,
     "metadata": {},
     "output_type": "execute_result"
    }
   ],
   "source": [
    "x1.shape, y.shape"
   ]
  },
  {
   "cell_type": "markdown",
   "metadata": {},
   "source": [
    "## Model Training: Simple FC RNN\n",
    "\n",
    "A simple fully connected RNN, it takes three input characters at time and outputs a prediction for the next character. "
   ]
  },
  {
   "cell_type": "code",
   "execution_count": 18,
   "metadata": {},
   "outputs": [],
   "source": [
    "n_hidden = 256 #number of activations in hidden layers \n",
    "n_facs = 42 #number of embedding factors "
   ]
  },
  {
   "cell_type": "code",
   "execution_count": 19,
   "metadata": {},
   "outputs": [],
   "source": [
    "class Char3Model(nn.Module):\n",
    "    def __init__(self, vocab_size, n_facs):\n",
    "        super().__init__() \n",
    "        #embedding matrix for each character \n",
    "        self.embed = nn.Embedding(vocab_size,n_facs)\n",
    "        #weight matrix for incoming letters, includes bias \n",
    "        self.lin_in = nn.Linear(n_facs,n_hidden)\n",
    "        #weight matrix for hidden to hidden transitions \n",
    "        self.lin_hidden = nn.Linear(n_hidden,n_hidden)\n",
    "        #weight matrix for FC layer\n",
    "        self.lin_out = nn.Linear(n_hidden,vocab_size)\n",
    "        \n",
    "    def forward(self, c1, c2, c3):\n",
    "        input_char1 = F.relu(self.lin_in(self.embed(c1)))\n",
    "        input_char2 = F.relu(self.lin_in(self.embed(c2)))\n",
    "        input_char3 = F.relu(self.lin_in(self.embed(c3)))\n",
    "        \n",
    "        h = V(torch.zeros(input_char1.size())).cuda()\n",
    "        h = F.tanh(self.lin_hidden(h+input_char1))\n",
    "        h = F.tanh(self.lin_hidden(h+input_char2))\n",
    "        h = F.tanh(self.lin_hidden(h+input_char3))\n",
    "        \n",
    "        return F.log_softmax(self.lin_out(h))"
   ]
  },
  {
   "cell_type": "code",
   "execution_count": 20,
   "metadata": {},
   "outputs": [],
   "source": [
    "md=ColumnarModelData.from_arrays('.', [-1], np.stack([x1,x2,x3],axis=1),\n",
    "                                 y, bs=512)"
   ]
  },
  {
   "cell_type": "code",
   "execution_count": 21,
   "metadata": {},
   "outputs": [],
   "source": [
    "m = Char3Model(vocab_size, n_facs).cuda()"
   ]
  },
  {
   "cell_type": "code",
   "execution_count": 22,
   "metadata": {},
   "outputs": [],
   "source": [
    "it = iter(md.trn_dl)\n",
    "*xs,yt = next(it)\n",
    "t = m(*V(xs))"
   ]
  },
  {
   "cell_type": "code",
   "execution_count": 23,
   "metadata": {},
   "outputs": [],
   "source": [
    "opt = optim.Adam(m.parameters(),lr=1e-2)"
   ]
  },
  {
   "cell_type": "code",
   "execution_count": 24,
   "metadata": {},
   "outputs": [
    {
     "data": {
      "application/vnd.jupyter.widget-view+json": {
       "model_id": "335fc55558d64a7ca460b90d18f3eb76",
       "version_major": 2,
       "version_minor": 0
      },
      "text/plain": [
       "HBox(children=(IntProgress(value=0, description='Epoch', max=1, style=ProgressStyle(description_width='initial…"
      ]
     },
     "metadata": {},
     "output_type": "display_data"
    },
    {
     "name": "stdout",
     "output_type": "stream",
     "text": [
      "epoch      trn_loss   val_loss                              \n",
      "    0      2.029694   3.602037  \n",
      "\n"
     ]
    },
    {
     "data": {
      "text/plain": [
       "[array([3.60204])]"
      ]
     },
     "execution_count": 24,
     "metadata": {},
     "output_type": "execute_result"
    }
   ],
   "source": [
    "fit(m, md, 1, opt, F.nll_loss)"
   ]
  },
  {
   "cell_type": "code",
   "execution_count": 25,
   "metadata": {},
   "outputs": [],
   "source": [
    "set_lrs(opt, 0.001)"
   ]
  },
  {
   "cell_type": "code",
   "execution_count": 26,
   "metadata": {},
   "outputs": [
    {
     "data": {
      "application/vnd.jupyter.widget-view+json": {
       "model_id": "0665e5b00a8d4fd192f1209db9ac7116",
       "version_major": 2,
       "version_minor": 0
      },
      "text/plain": [
       "HBox(children=(IntProgress(value=0, description='Epoch', max=1, style=ProgressStyle(description_width='initial…"
      ]
     },
     "metadata": {},
     "output_type": "display_data"
    },
    {
     "name": "stdout",
     "output_type": "stream",
     "text": [
      "epoch      trn_loss   val_loss                              \n",
      "    0      1.806318   1.042397  \n",
      "\n"
     ]
    },
    {
     "data": {
      "text/plain": [
       "[array([1.0424])]"
      ]
     },
     "execution_count": 26,
     "metadata": {},
     "output_type": "execute_result"
    }
   ],
   "source": [
    "fit(m, md, 1, opt, F.nll_loss)"
   ]
  },
  {
   "cell_type": "markdown",
   "metadata": {},
   "source": [
    "##  Model Testing: Simple FC RNN"
   ]
  },
  {
   "cell_type": "code",
   "execution_count": 27,
   "metadata": {},
   "outputs": [],
   "source": [
    "def get_next(inp):\n",
    "    idxs = T(np.array([char_indices[c] for c in inp]))\n",
    "    probs = m(*VV(idxs))\n",
    "    i = np.argmax(to_np(probs))\n",
    "    return chars[i]\n"
   ]
  },
  {
   "cell_type": "code",
   "execution_count": 28,
   "metadata": {},
   "outputs": [
    {
     "data": {
      "text/plain": [
       "'T'"
      ]
     },
     "execution_count": 28,
     "metadata": {},
     "output_type": "execute_result"
    }
   ],
   "source": [
    "get_next(\"y. \")"
   ]
  },
  {
   "cell_type": "code",
   "execution_count": 29,
   "metadata": {},
   "outputs": [
    {
     "data": {
      "text/plain": [
       "' '"
      ]
     },
     "execution_count": 29,
     "metadata": {},
     "output_type": "execute_result"
    }
   ],
   "source": [
    "get_next(\"you\")"
   ]
  },
  {
   "cell_type": "code",
   "execution_count": 30,
   "metadata": {},
   "outputs": [
    {
     "data": {
      "text/plain": [
       "'d'"
      ]
     },
     "execution_count": 30,
     "metadata": {},
     "output_type": "execute_result"
    }
   ],
   "source": [
    "get_next(\" an\")"
   ]
  },
  {
   "cell_type": "markdown",
   "metadata": {},
   "source": [
    "## Model Training: 8 Char RNN\n",
    "\n",
    "This RNN takes 8 input characters to predict the 9th. \n",
    "\n",
    "Below we create datasets to represent this"
   ]
  },
  {
   "cell_type": "code",
   "execution_count": 31,
   "metadata": {},
   "outputs": [],
   "source": [
    "cs = 8 \n",
    "#each element in in_data would be lists of 8 characters \n",
    "in_data = [[idxs[i+j] for i in range(cs)] for j in range(len(idxs)-cs)] \n",
    "out_data = [idxs[cs+j] for j in range(len(idxs)-cs)] #every ninth character"
   ]
  },
  {
   "cell_type": "code",
   "execution_count": 32,
   "metadata": {},
   "outputs": [],
   "source": [
    "xs = np.stack(in_data)\n",
    "y = np.stack(out_data)\n",
    "\n",
    "val_idx = get_cv_idxs(len(idxs)-cs-1)\n",
    "md = ColumnarModelData.from_arrays(\".\", val_idx, xs, y, bs=512)"
   ]
  },
  {
   "cell_type": "code",
   "execution_count": 33,
   "metadata": {},
   "outputs": [],
   "source": [
    "class CharLoopModel(nn.Module):\n",
    "    def __init__(self, vocab_size, n_facs):\n",
    "        super().__init__()\n",
    "        self.embed = nn.Embedding(vocab_size,n_facs)\n",
    "        self.lin_in = nn.Linear(n_facs+n_hidden,n_hidden)\n",
    "        self.lin_hidden = nn.Linear(n_hidden,n_hidden)\n",
    "        self.lin_out = nn.Linear(n_hidden,vocab_size)\n",
    "        \n",
    "    def forward(self, *cs):\n",
    "        bs = cs[0].size(0)\n",
    "        h = V(torch.zeros(bs, n_hidden).cuda())\n",
    "        for c in cs:\n",
    "            inp = torch.cat((h,self.embed(c)),1)\n",
    "            inp = F.relu(self.lin_in(inp))   \n",
    "            h = F.tanh(self.lin_hidden(inp))\n",
    "        \n",
    "        return F.log_softmax(self.lin_out(h),dim=-1)"
   ]
  },
  {
   "cell_type": "code",
   "execution_count": 34,
   "metadata": {},
   "outputs": [],
   "source": [
    "m = CharLoopModel(vocab_size, n_facs).cuda()\n",
    "opt = optim.Adam(m.parameters(), 0.001)\n"
   ]
  },
  {
   "cell_type": "code",
   "execution_count": 35,
   "metadata": {},
   "outputs": [
    {
     "data": {
      "application/vnd.jupyter.widget-view+json": {
       "model_id": "72c90f591b2e46bd8f732a6a49dda651",
       "version_major": 2,
       "version_minor": 0
      },
      "text/plain": [
       "HBox(children=(IntProgress(value=0, description='Epoch', max=1, style=ProgressStyle(description_width='initial…"
      ]
     },
     "metadata": {},
     "output_type": "display_data"
    },
    {
     "name": "stdout",
     "output_type": "stream",
     "text": [
      "epoch      trn_loss   val_loss                                \n",
      "    0      1.692284   1.68296   \n",
      "\n"
     ]
    },
    {
     "data": {
      "text/plain": [
       "[array([1.68296])]"
      ]
     },
     "execution_count": 35,
     "metadata": {},
     "output_type": "execute_result"
    }
   ],
   "source": [
    "fit(m,md,1,opt,F.nll_loss)"
   ]
  },
  {
   "cell_type": "markdown",
   "metadata": {},
   "source": [
    "## Model Testing: 8 Char RNN"
   ]
  },
  {
   "cell_type": "code",
   "execution_count": 36,
   "metadata": {},
   "outputs": [
    {
     "data": {
      "application/vnd.jupyter.widget-view+json": {
       "model_id": "e8efdd4ca4b644eab3ede11fbaae19f4",
       "version_major": 2,
       "version_minor": 0
      },
      "text/plain": [
       "HBox(children=(IntProgress(value=0, description='Epoch', max=1, style=ProgressStyle(description_width='initial…"
      ]
     },
     "metadata": {},
     "output_type": "display_data"
    },
    {
     "name": "stdout",
     "output_type": "stream",
     "text": [
      "epoch      trn_loss   val_loss                                \n",
      "    0      1.599182   1.598317  \n",
      "\n"
     ]
    },
    {
     "data": {
      "text/plain": [
       "[array([1.59832])]"
      ]
     },
     "execution_count": 36,
     "metadata": {},
     "output_type": "execute_result"
    }
   ],
   "source": [
    "set_lrs(opt,1e-4)\n",
    "fit(m,md,1,opt,F.nll_loss)"
   ]
  },
  {
   "cell_type": "code",
   "execution_count": 37,
   "metadata": {},
   "outputs": [
    {
     "data": {
      "text/plain": [
       "'t'"
      ]
     },
     "execution_count": 37,
     "metadata": {},
     "output_type": "execute_result"
    }
   ],
   "source": [
    "get_next(\"also in \")"
   ]
  },
  {
   "cell_type": "code",
   "execution_count": 38,
   "metadata": {},
   "outputs": [
    {
     "data": {
      "text/plain": [
       "'y'"
      ]
     },
     "execution_count": 38,
     "metadata": {},
     "output_type": "execute_result"
    }
   ],
   "source": [
    "get_next(\"good da\")"
   ]
  },
  {
   "cell_type": "code",
   "execution_count": 39,
   "metadata": {},
   "outputs": [
    {
     "data": {
      "text/plain": [
       "'o'"
      ]
     },
     "execution_count": 39,
     "metadata": {},
     "output_type": "execute_result"
    }
   ],
   "source": [
    "get_next(\"very go\")"
   ]
  },
  {
   "cell_type": "markdown",
   "metadata": {},
   "source": [
    "## Model Training: RNN with Pytorch \n",
    "\n",
    "This model uses the Pytorch RNN implementation"
   ]
  },
  {
   "cell_type": "code",
   "execution_count": 40,
   "metadata": {},
   "outputs": [],
   "source": [
    "class CharRNN(nn.Module):\n",
    "    def __init__(self, vocab_size, n_facs):\n",
    "        super().__init__()\n",
    "        self.embed = nn.Embedding(vocab_size,n_facs)\n",
    "        self.rnn = nn.RNN(n_facs, n_hidden)\n",
    "        self.lin_out = nn.Linear(n_hidden,vocab_size)\n",
    "        \n",
    "    def forward(self, *cs):\n",
    "        bs = cs[0].size(0)\n",
    "        h = V(torch.zeros(1,bs, n_hidden).cuda())\n",
    "        inp = self.embed(torch.stack(cs))\n",
    "        outp, h = self.rnn(inp,h)\n",
    "        \n",
    "        return F.log_softmax(self.lin_out(outp[-1]),dim=-1)"
   ]
  },
  {
   "cell_type": "code",
   "execution_count": 41,
   "metadata": {},
   "outputs": [],
   "source": [
    "m = CharRNN(vocab_size, n_facs).cuda()\n",
    "opt = optim.Adam(m.parameters(), 0.001)"
   ]
  },
  {
   "cell_type": "code",
   "execution_count": 42,
   "metadata": {},
   "outputs": [],
   "source": [
    "it = iter(md.trn_dl)\n",
    "*batch_x, batch_y = next(it)"
   ]
  },
  {
   "cell_type": "code",
   "execution_count": 43,
   "metadata": {},
   "outputs": [],
   "source": [
    "inp = m.embed(V(torch.stack(batch_x)))"
   ]
  },
  {
   "cell_type": "code",
   "execution_count": 44,
   "metadata": {},
   "outputs": [],
   "source": [
    "hidden_temp = V(torch.zeros(1,512,n_hidden))\n",
    "outp, h = m.rnn(inp,hidden_temp)"
   ]
  },
  {
   "cell_type": "code",
   "execution_count": 45,
   "metadata": {},
   "outputs": [
    {
     "data": {
      "text/plain": [
       "(torch.Size([8, 512, 256]), torch.Size([1, 512, 256]))"
      ]
     },
     "execution_count": 45,
     "metadata": {},
     "output_type": "execute_result"
    }
   ],
   "source": [
    "outp.size(), h.size()"
   ]
  },
  {
   "cell_type": "code",
   "execution_count": 46,
   "metadata": {},
   "outputs": [
    {
     "data": {
      "application/vnd.jupyter.widget-view+json": {
       "model_id": "1bad8cf1c2a34c4eb5d42153d2e984e5",
       "version_major": 2,
       "version_minor": 0
      },
      "text/plain": [
       "HBox(children=(IntProgress(value=0, description='Epoch', max=4, style=ProgressStyle(description_width='initial…"
      ]
     },
     "metadata": {},
     "output_type": "display_data"
    },
    {
     "name": "stdout",
     "output_type": "stream",
     "text": [
      "epoch      trn_loss   val_loss                                \n",
      "    0      1.742012   1.739475  \n",
      "    1      1.600827   1.602397                                \n",
      "    2      1.530463   1.539789                                \n",
      "    3      1.469388   1.503588                                \n",
      "\n"
     ]
    },
    {
     "data": {
      "text/plain": [
       "[array([1.50359])]"
      ]
     },
     "execution_count": 46,
     "metadata": {},
     "output_type": "execute_result"
    }
   ],
   "source": [
    "fit(m,md,4,opt,F.nll_loss)"
   ]
  },
  {
   "cell_type": "code",
   "execution_count": 47,
   "metadata": {},
   "outputs": [
    {
     "data": {
      "application/vnd.jupyter.widget-view+json": {
       "model_id": "d3e3aeba677f4b2597ae2c3c4f0b8388",
       "version_major": 2,
       "version_minor": 0
      },
      "text/plain": [
       "HBox(children=(IntProgress(value=0, description='Epoch', max=2, style=ProgressStyle(description_width='initial…"
      ]
     },
     "metadata": {},
     "output_type": "display_data"
    },
    {
     "name": "stdout",
     "output_type": "stream",
     "text": [
      "epoch      trn_loss   val_loss                                \n",
      "    0      1.403896   1.458415  \n",
      "    1      1.412412   1.45423                                 \n",
      "\n"
     ]
    },
    {
     "data": {
      "text/plain": [
       "[array([1.45423])]"
      ]
     },
     "execution_count": 47,
     "metadata": {},
     "output_type": "execute_result"
    }
   ],
   "source": [
    "set_lrs(opt,1e-4)\n",
    "fit(m,md,2,opt,F.nll_loss)"
   ]
  },
  {
   "cell_type": "markdown",
   "metadata": {},
   "source": [
    "## Model Testing: RNN with Pytorch\n",
    "\n",
    "It becomes very clear this simple RNN model has no understanding of sentence structure, nor can it recall previous predictions, thus below we see it repeat the same prediciton"
   ]
  },
  {
   "cell_type": "code",
   "execution_count": 48,
   "metadata": {},
   "outputs": [
    {
     "name": "stdout",
     "output_type": "stream",
     "text": [
      "e\n",
      "y\n"
     ]
    }
   ],
   "source": [
    "print(get_next(\"for thos\"))\n",
    "print(get_next(\"good da\"))"
   ]
  },
  {
   "cell_type": "code",
   "execution_count": 49,
   "metadata": {},
   "outputs": [],
   "source": [
    "def get_next_n(inp,n):\n",
    "    res=inp\n",
    "    for i in range(n):\n",
    "        c = get_next(inp)\n",
    "        inp = inp[1:] + c\n",
    "        res += c \n",
    "    return res"
   ]
  },
  {
   "cell_type": "code",
   "execution_count": 50,
   "metadata": {},
   "outputs": [
    {
     "data": {
      "text/plain": [
       "'for those that he had been the streets, and the '"
      ]
     },
     "execution_count": 50,
     "metadata": {},
     "output_type": "execute_result"
    }
   ],
   "source": [
    "get_next_n(\"for thos\", 40)"
   ]
  },
  {
   "cell_type": "markdown",
   "metadata": {},
   "source": [
    "## Model Training: Multi-Output RNN\n",
    "\n",
    "\n",
    "Below we stop having overlapping information as was seen in character lists of the previous implementations."
   ]
  },
  {
   "cell_type": "code",
   "execution_count": 51,
   "metadata": {},
   "outputs": [],
   "source": [
    "#non overlapping sets\n",
    "in_data = [[idxs[i+j] for i in range(cs)] for j in range(0,len(idxs)-cs-1,cs)]\n",
    "\n",
    "#offset above data by one character for the labels (i.e. what we shouldve guessed)\n",
    "out_data = [[idxs[i+j] for i in range(cs)] for j in range(1,len(idxs)-cs, cs)]"
   ]
  },
  {
   "cell_type": "code",
   "execution_count": 52,
   "metadata": {},
   "outputs": [],
   "source": [
    "xs = np.stack(in_data)\n",
    "ys = np.stack(out_data)"
   ]
  },
  {
   "cell_type": "code",
   "execution_count": 53,
   "metadata": {},
   "outputs": [
    {
     "data": {
      "text/plain": [
       "((94415, 8), (94415, 8))"
      ]
     },
     "execution_count": 53,
     "metadata": {},
     "output_type": "execute_result"
    }
   ],
   "source": [
    "xs.shape, ys.shape"
   ]
  },
  {
   "cell_type": "code",
   "execution_count": 54,
   "metadata": {},
   "outputs": [
    {
     "data": {
      "text/plain": [
       "(array([[ 9,  1, 55, 66,  2, 69, 47, 65],\n",
       "        [ 2, 66, 54, 51,  2, 69, 61, 64],\n",
       "        [65, 66,  2, 61, 52,  2, 66, 55],\n",
       "        [59, 51, 65,  9,  1, 55, 66,  2],\n",
       "        [69, 47, 65,  2, 66, 54, 51,  2],\n",
       "        [47, 53, 51,  2, 61, 52,  2, 69],\n",
       "        [55, 65, 50, 61, 59,  9,  1, 55],\n",
       "        [66,  2, 69, 47, 65,  2, 66, 54]]),\n",
       " array([[ 1, 55, 66,  2, 69, 47, 65,  2],\n",
       "        [66, 54, 51,  2, 69, 61, 64, 65],\n",
       "        [66,  2, 61, 52,  2, 66, 55, 59],\n",
       "        [51, 65,  9,  1, 55, 66,  2, 69],\n",
       "        [47, 65,  2, 66, 54, 51,  2, 47],\n",
       "        [53, 51,  2, 61, 52,  2, 69, 55],\n",
       "        [65, 50, 61, 59,  9,  1, 55, 66],\n",
       "        [ 2, 69, 47, 65,  2, 66, 54, 51]]))"
      ]
     },
     "execution_count": 54,
     "metadata": {},
     "output_type": "execute_result"
    }
   ],
   "source": [
    "xs[:cs,:], ys[:cs,:]"
   ]
  },
  {
   "cell_type": "code",
   "execution_count": 55,
   "metadata": {},
   "outputs": [],
   "source": [
    "#-cs to ensure all samples same size, minus 1 for label set\n",
    "val_idx = get_cv_idxs(len(xs)-cs-1) "
   ]
  },
  {
   "cell_type": "code",
   "execution_count": 56,
   "metadata": {},
   "outputs": [],
   "source": [
    "md = ColumnarModelData.from_arrays(\".\", val_idx, xs, ys, bs=512)"
   ]
  },
  {
   "cell_type": "code",
   "execution_count": 57,
   "metadata": {},
   "outputs": [],
   "source": [
    "class CharSeqRNN(nn.Module):\n",
    "    def __init__(self, vocab_size, n_facs):\n",
    "        super().__init__()\n",
    "        self.embedding = nn.Embedding(vocab_size,n_facs)\n",
    "        self.rnn = nn.RNN(n_facs, n_hidden)\n",
    "        self.linear_out = nn.Linear(n_hidden,vocab_size)\n",
    "        \n",
    "    def forward(self,*cs):\n",
    "        bs = cs[0].size(0) #size of first sample, would be 8 \n",
    "        h = V(torch.zeros(1,bs,n_hidden)) #rank 3 because of nn.RNN \n",
    "        inp = self.embedding(torch.stack(cs)) #convert to embedding matrices \n",
    "        outp, h = self.rnn(inp,h)\n",
    "        return F.log_softmax(self.linear_out(outp),dim=-1)\n",
    "    "
   ]
  },
  {
   "cell_type": "code",
   "execution_count": 58,
   "metadata": {},
   "outputs": [],
   "source": [
    "m = CharSeqRNN(vocab_size, n_facs).cuda()\n",
    "opt = optim.Adam(m.parameters(), 0.001)"
   ]
  },
  {
   "cell_type": "code",
   "execution_count": 59,
   "metadata": {},
   "outputs": [],
   "source": [
    "#define because F.nll_loss expects rank 2 tensor, outp is rank 3 tensor \n",
    "def nll_loss_seq(inp, targ):\n",
    "    _,_,nh = inp.size()\n",
    "    targ = targ.transpose(0,1).contiguous().view(-1)\n",
    "    return F.nll_loss(inp.view(-1,nh), targ)"
   ]
  },
  {
   "cell_type": "code",
   "execution_count": 60,
   "metadata": {},
   "outputs": [
    {
     "data": {
      "application/vnd.jupyter.widget-view+json": {
       "model_id": "5dfa6c3b36a74e01af033d36d98df28c",
       "version_major": 2,
       "version_minor": 0
      },
      "text/plain": [
       "HBox(children=(IntProgress(value=0, description='Epoch', max=4, style=ProgressStyle(description_width='initial…"
      ]
     },
     "metadata": {},
     "output_type": "display_data"
    },
    {
     "name": "stdout",
     "output_type": "stream",
     "text": [
      "epoch      trn_loss   val_loss                              \n",
      "    0      2.403913   2.263301  \n",
      "    1      2.122646   2.069694                              \n",
      "    2      1.996011   1.968641                              \n",
      "    3      1.920056   1.908909                              \n",
      "\n"
     ]
    },
    {
     "data": {
      "text/plain": [
       "[array([1.90891])]"
      ]
     },
     "execution_count": 60,
     "metadata": {},
     "output_type": "execute_result"
    }
   ],
   "source": [
    "fit (m,md,4,opt,nll_loss_seq)"
   ]
  },
  {
   "cell_type": "code",
   "execution_count": 61,
   "metadata": {},
   "outputs": [],
   "source": [
    "set_lrs(opt, 1e-4)"
   ]
  },
  {
   "cell_type": "code",
   "execution_count": 62,
   "metadata": {},
   "outputs": [
    {
     "data": {
      "application/vnd.jupyter.widget-view+json": {
       "model_id": "5c9074fc83a94b438ad7a53615252d4c",
       "version_major": 2,
       "version_minor": 0
      },
      "text/plain": [
       "HBox(children=(IntProgress(value=0, description='Epoch', max=1, style=ProgressStyle(description_width='initial…"
      ]
     },
     "metadata": {},
     "output_type": "display_data"
    },
    {
     "name": "stdout",
     "output_type": "stream",
     "text": [
      "epoch      trn_loss   val_loss                              \n",
      "    0      1.878308   1.891948  \n",
      "\n"
     ]
    },
    {
     "data": {
      "text/plain": [
       "[array([1.89195])]"
      ]
     },
     "execution_count": 62,
     "metadata": {},
     "output_type": "execute_result"
    }
   ],
   "source": [
    "fit (m,md,1,opt,nll_loss_seq)"
   ]
  },
  {
   "cell_type": "markdown",
   "metadata": {},
   "source": [
    "## Stateful RNN\n",
    "\n",
    "Up utill now the hidden layer has not been saved,it is thrown away after each segment is processed.\n",
    "For example to predict the second letter based on the first one for the second segment, minus cs to ensure all samples same size, minus 1 for label set we'd be going off the default activation of H. \n",
    "So now we will not reset hidden layer in every forward pass. \n",
    "\n",
    "### Loading Data"
   ]
  },
  {
   "cell_type": "code",
   "execution_count": 63,
   "metadata": {},
   "outputs": [],
   "source": [
    "from torchtext import vocab, data\n",
    "\n",
    "from fastai.nlp import *\n",
    "from fastai.lm_rnn import *"
   ]
  },
  {
   "cell_type": "code",
   "execution_count": 64,
   "metadata": {},
   "outputs": [],
   "source": [
    "PATH='./data/dickens/'\n",
    "\n",
    "TRN_PATH = 'trn/'\n",
    "VAL_PATH = 'val/'\n",
    "TRN = f'{PATH}{TRN_PATH}'\n",
    "VAL = f'{PATH}{VAL_PATH}'"
   ]
  },
  {
   "cell_type": "code",
   "execution_count": 65,
   "metadata": {},
   "outputs": [
    {
     "data": {
      "text/plain": [
       "(1164, 42, 1, 596754)"
      ]
     },
     "execution_count": 65,
     "metadata": {},
     "output_type": "execute_result"
    }
   ],
   "source": [
    "TEXT = data.Field(lower=True, tokenize=list) \n",
    "bs =64; bptt=8; n_fac =42; n_hidden=256\n",
    "\n",
    "FILES = dict(train=TRN_PATH, validation=VAL_PATH, test=VAL_PATH)\n",
    "md = LanguageModelData.from_text_files(PATH, TEXT, **FILES, bs=bs, bptt=bptt, \n",
    "                                       min_freq=3)\n",
    "\n",
    "len(md.trn_dl), md.nt, len(md.trn_ds), len(md.trn_ds[0].text)"
   ]
  },
  {
   "cell_type": "markdown",
   "metadata": {},
   "source": [
    "### Creating RNN"
   ]
  },
  {
   "cell_type": "markdown",
   "metadata": {},
   "source": [
    "The new variable self.h below, has the same value but no history of operations, as we repackaged out of the tensor extracted. Therefore when it tries to back-propagate, it will stop there, saving lots of memory. Keep hidden state but not the history as to how we got to it.  "
   ]
  },
  {
   "cell_type": "code",
   "execution_count": 66,
   "metadata": {},
   "outputs": [],
   "source": [
    "class CharSeqStatefulRnn(nn.Module):\n",
    "    def __init__(self,vocab_size, n_fac, bs):\n",
    "        self.vocab_size = vocab_size\n",
    "        super().__init__()\n",
    "        self.e = nn.Embedding(vocab_size, n_fac)\n",
    "        self.rnn = nn.RNN(n_fac, n_hidden)\n",
    "        self.l_out = nn.Linear(n_hidden, vocab_size)\n",
    "        #this line in the constructor will set self.h to be a bunch of zeros \n",
    "        self.init_hidden(bs)\n",
    "        \n",
    "    def forward(self, cs):\n",
    "        bs = cs[0].size(0)\n",
    "        #if minibatch size has changed, (happens unless dataset divisible by bptt*bs)\n",
    "        if self.h.size(1) != bs:\n",
    "            self.init_hidden(bs) \n",
    "        outp, h = self.rnn(self.e(cs), self.h)\n",
    "        #key for memory, for very large bptt memory complexitiy would go overboard\n",
    "        #remembering all the operations and stuff, so repackage_var wraps h \n",
    "        #in a new variable forgetting all the history\n",
    "        self.h = repackage_var(h) \n",
    "        #returns output of logmax across last axis, after reshaping to rank 2\n",
    "        return F.log_softmax(self.l_out(outp), dim=-1).view(-1, self.vocab_size)\n",
    "\n",
    "    def init_hidden(self, bs):\n",
    "        self.h = V(torch.zeros(1, bs, n_hidden))\n",
    "        \n",
    "        \n",
    "        \n",
    "    "
   ]
  },
  {
   "cell_type": "code",
   "execution_count": 67,
   "metadata": {},
   "outputs": [
    {
     "data": {
      "application/vnd.jupyter.widget-view+json": {
       "model_id": "93ab4a70c82b4ae68e4ea2be27758867",
       "version_major": 2,
       "version_minor": 0
      },
      "text/plain": [
       "HBox(children=(IntProgress(value=0, description='Epoch', max=4, style=ProgressStyle(description_width='initial…"
      ]
     },
     "metadata": {},
     "output_type": "display_data"
    },
    {
     "name": "stdout",
     "output_type": "stream",
     "text": [
      "epoch      trn_loss   val_loss                                 \n",
      "    0      1.810391   1.798723  \n",
      "    1      1.655623   1.669346                                 \n",
      "    2      1.572923   1.60699                                  \n",
      "    3      1.53718    1.57631                                  \n",
      "\n"
     ]
    },
    {
     "data": {
      "text/plain": [
       "[array([1.57631])]"
      ]
     },
     "execution_count": 67,
     "metadata": {},
     "output_type": "execute_result"
    }
   ],
   "source": [
    "m = CharSeqStatefulRnn(md.nt, n_fac, 512).cuda()\n",
    "opt = optim.Adam(m.parameters(), 1e-3)\n",
    "\n",
    "fit(m,md,4,opt, F.nll_loss)"
   ]
  },
  {
   "cell_type": "markdown",
   "metadata": {},
   "source": [
    "### Understanding the RNN call"
   ]
  },
  {
   "cell_type": "code",
   "execution_count": 68,
   "metadata": {},
   "outputs": [],
   "source": [
    "def RNNCell(input, hidden, w_ih, w_hh, b_ih, b_hh):\n",
    "    #perform linear transform on incoming data and internal state data\n",
    "    #add and apply nonlinearity to them \n",
    "    return F.tanh(F.linear(input, w_ih, b_ih) + F.linear(hidden, w_hh, b_hh))"
   ]
  },
  {
   "cell_type": "code",
   "execution_count": 69,
   "metadata": {},
   "outputs": [],
   "source": [
    "class CharSeqStatefulRnn2(nn.Module):\n",
    "    def __init__(self, vocab_size, n_fac, bs):\n",
    "        super().__init__()\n",
    "        self.vocab_size = vocab_size\n",
    "        self.e = nn.Embedding(vocab_size, n_fac)\n",
    "        self.rnn = nn.RNNCell(n_fac, n_hidden)\n",
    "        self.out = nn.Linear(n_hidden, vocab_size)\n",
    "        self.init_hidden(bs)\n",
    "        \n",
    "    def forward(self, cs):\n",
    "        bs = cs[0].size(0) \n",
    "        if self.h.size(1) != bs:\n",
    "            self.init_hidden(bs)\n",
    "        outp = [] #list to append results to\n",
    "        o = self.h \n",
    "        for c in cs: \n",
    "            o = self.rnn(self.e(c),o)\n",
    "            outp.append(o) #append the result of each layer to outp\n",
    "        outp = self.out(torch.stack(outp))\n",
    "        self.h = repackage_var(o)\n",
    "        return F.log_softmax(outp, dim=-1).view(-1, self.vocab_size)\n",
    "        \n",
    "    def init_hidden(self, bs):\n",
    "        self.h = V(torch.zeros(1,bs, n_hidden))"
   ]
  },
  {
   "cell_type": "code",
   "execution_count": 70,
   "metadata": {},
   "outputs": [
    {
     "data": {
      "application/vnd.jupyter.widget-view+json": {
       "model_id": "f43c16a818864af1b2883b10250f36bc",
       "version_major": 2,
       "version_minor": 0
      },
      "text/plain": [
       "HBox(children=(IntProgress(value=0, description='Epoch', max=4, style=ProgressStyle(description_width='initial…"
      ]
     },
     "metadata": {},
     "output_type": "display_data"
    },
    {
     "name": "stdout",
     "output_type": "stream",
     "text": [
      "epoch      trn_loss   val_loss                                \n",
      "    0      1.804233   1.809388  \n",
      "    1      1.656872   1.678395                                \n",
      "    2      1.586062   1.615492                                \n",
      "    3      1.539131   1.583782                                \n",
      "\n"
     ]
    },
    {
     "data": {
      "text/plain": [
       "[array([1.58378])]"
      ]
     },
     "execution_count": 70,
     "metadata": {},
     "output_type": "execute_result"
    }
   ],
   "source": [
    "m = CharSeqStatefulRnn2(md.nt, n_fac, 512).cuda()\n",
    "opt = optim.Adam(m.parameters(), 1e-3)\n",
    "\n",
    "fit(m,md,4,opt, F.nll_loss)"
   ]
  },
  {
   "cell_type": "markdown",
   "metadata": {},
   "source": [
    "## Model Testing: Sateful RNN\n"
   ]
  },
  {
   "cell_type": "code",
   "execution_count": 71,
   "metadata": {},
   "outputs": [
    {
     "name": "stdout",
     "output_type": "stream",
     "text": [
      "for those who by have heard simes of these, rnaveinedin, of his d stones. \"to it. i see was no fore the biresponencillindoned up, to the bar, that hole,\" said they had bound ahagring, if in monsiding himself seft; somehill roor, the coach another, in a youngerent delistening himself see miss preasation.\"as onay that the echoes, a faitimpered fromtonted, and, exclose,that regood to the infamed the fellownding in\n"
     ]
    }
   ],
   "source": [
    "def get_next(inp):\n",
    "    idxs = TEXT.numericalize(inp)\n",
    "    p = m(VV(idxs.transpose(0,1)))\n",
    "    r = torch.multinomial(p[-1].exp(), 1)\n",
    "    return TEXT.vocab.itos[to_np(r)[0]]\n",
    "\n",
    "\n",
    "def get_next_n(inp, n):\n",
    "    res = inp\n",
    "    for i in range(n):\n",
    "        c = get_next(inp)\n",
    "        res += c\n",
    "        inp = inp[1:]+c\n",
    "    return res\n",
    "\n",
    "print(get_next_n('for those who ', 400))"
   ]
  },
  {
   "cell_type": "markdown",
   "metadata": {},
   "source": [
    "## Model Training: GRU\n",
    "\n",
    "Below we define a GRU cell and then use it inside the GRU network"
   ]
  },
  {
   "cell_type": "code",
   "execution_count": 72,
   "metadata": {},
   "outputs": [],
   "source": [
    "def GRUCell(input, hidden, w_ih, w_hh, b_ih, b_hh):\n",
    "    gi = F.linear(input, w_ih, b_ih)\n",
    "    gh = F.linear(hidden, w_hh, b_hh)\n",
    "    i_r, i_i, i_n = gi.chunk(3, 1)\n",
    "    h_r, h_i, h_n = gh.chunk(3, 1)\n",
    "\n",
    "    resetgate = F.sigmoid(i_r + h_r)\n",
    "    inputgate = F.sigmoid(i_i + h_i)\n",
    "    newgate = F.tanh(i_n + resetgate * h_n)\n",
    "    return newgate + inputgate * (hidden - newgate)"
   ]
  },
  {
   "cell_type": "code",
   "execution_count": 73,
   "metadata": {},
   "outputs": [],
   "source": [
    "class CharSeqStatefulGRU(nn.Module):\n",
    "    def __init__(self, vocab_size, n_fac, bs):\n",
    "        super().__init__()\n",
    "        self.vocab_size=vocab_size\n",
    "        self.e = nn.Embedding(vocab_size, n_fac)\n",
    "        self.rnn = nn.GRU(n_fac, n_hidden)#use gru instead of rnn now \n",
    "        self.l_out = nn.Linear(n_hidden, vocab_size)\n",
    "        self.init_hidden(bs)\n",
    "        \n",
    "    def init_hidden(self, bs):\n",
    "        self.h = V(torch.zeros(1,bs, n_hidden))\n",
    "        \n",
    "    def forward(self, cs):\n",
    "        bs = cs[0].size(0)\n",
    "        if bs != self.h.size(1):\n",
    "            self.init_hidden(bs)\n",
    "        outp, h = self.rnn(self.e(cs), self.h)\n",
    "        self.h = repackage_var(h)\n",
    "        return F.log_softmax(self.l_out(outp), dim=-1).view(-1, self.vocab_size)\n",
    "    "
   ]
  },
  {
   "cell_type": "code",
   "execution_count": 74,
   "metadata": {},
   "outputs": [
    {
     "data": {
      "application/vnd.jupyter.widget-view+json": {
       "model_id": "e50873a2622747b6afdb74e0eb38e7c6",
       "version_major": 2,
       "version_minor": 0
      },
      "text/plain": [
       "HBox(children=(IntProgress(value=0, description='Epoch', max=6, style=ProgressStyle(description_width='initial…"
      ]
     },
     "metadata": {},
     "output_type": "display_data"
    },
    {
     "name": "stdout",
     "output_type": "stream",
     "text": [
      "epoch      trn_loss   val_loss                                \n",
      "    0      1.808199   1.8019    \n",
      "    1      1.653945   1.67905                                 \n",
      "    2      1.582657   1.617869                                \n",
      "    3      1.546906   1.584365                                \n",
      "    4      1.507429   1.564108                                \n",
      "    5      1.485383   1.551869                                \n",
      "\n"
     ]
    },
    {
     "data": {
      "text/plain": [
       "[array([1.55187])]"
      ]
     },
     "execution_count": 74,
     "metadata": {},
     "output_type": "execute_result"
    }
   ],
   "source": [
    "m = CharSeqStatefulRnn2(md.nt, n_fac, 512).cuda()\n",
    "opt = optim.Adam(m.parameters(), 1e-3)\n",
    "\n",
    "fit(m,md,6,opt, F.nll_loss)"
   ]
  },
  {
   "cell_type": "code",
   "execution_count": 75,
   "metadata": {},
   "outputs": [
    {
     "data": {
      "application/vnd.jupyter.widget-view+json": {
       "model_id": "7e90eabf45844df4b5d5818b2eca8131",
       "version_major": 2,
       "version_minor": 0
      },
      "text/plain": [
       "HBox(children=(IntProgress(value=0, description='Epoch', max=3, style=ProgressStyle(description_width='initial…"
      ]
     },
     "metadata": {},
     "output_type": "display_data"
    },
    {
     "name": "stdout",
     "output_type": "stream",
     "text": [
      "epoch      trn_loss   val_loss                                \n",
      "    0      1.410242   1.510801  \n",
      "    1      1.410462   1.50718                                 \n",
      "    2      1.411977   1.504186                                \n",
      "\n"
     ]
    },
    {
     "data": {
      "text/plain": [
       "[array([1.50419])]"
      ]
     },
     "execution_count": 75,
     "metadata": {},
     "output_type": "execute_result"
    }
   ],
   "source": [
    "set_lrs(opt, 1e-4)\n",
    "fit(m, md, 3, opt, F.nll_loss)"
   ]
  },
  {
   "cell_type": "markdown",
   "metadata": {},
   "source": [
    "## Model Testing: GRU"
   ]
  },
  {
   "cell_type": "code",
   "execution_count": 76,
   "metadata": {},
   "outputs": [
    {
     "name": "stdout",
     "output_type": "stream",
     "text": [
      "for those who palto and conveyoration. but he master at postise my hunbing, at the daughter in this--with a string of great whiles, is on the great, \"it out. he disostripance, as they it has hold, and dewimdencount, the came over tw toofallow: to speak for the shoest, jacques outlowing on able, and folding ofgain, always feeling tolone. i and, which an now in his streetin so, perask, she did so consider of dest\n"
     ]
    }
   ],
   "source": [
    "print(get_next_n('for those who ', 400))"
   ]
  },
  {
   "cell_type": "markdown",
   "metadata": {},
   "source": [
    "## Model Training: LSTM\n",
    "The main difference now is that the hidden state and cell state are not seperate "
   ]
  },
  {
   "cell_type": "code",
   "execution_count": 77,
   "metadata": {},
   "outputs": [],
   "source": [
    "from fastai import sgdr\n",
    "n_hidden = 512"
   ]
  },
  {
   "cell_type": "code",
   "execution_count": 78,
   "metadata": {},
   "outputs": [],
   "source": [
    "#big changes include inclusion of dropout and modification to fit cell state and \n",
    "#hidden layer \n",
    "\n",
    "class CharSeqStatefulLSTM (nn.Module):\n",
    "    def __init__(self, vocab_size, n_fac, bs, nl):\n",
    "        super().__init__()\n",
    "        self.vocab_size, self.nl =vocab_size, nl\n",
    "        self.e = nn.Embedding(vocab_size, n_fac)\n",
    "        self.rnn = nn.LSTM(n_fac, n_hidden, nl, dropout= 0.5) \n",
    "        self.l_out = nn.Linear(n_hidden, vocab_size)\n",
    "        self.init_hidden(bs)\n",
    "        \n",
    "    def init_hidden(self, bs):\n",
    "        self.h = (V(torch.zeros(self.nl,bs, n_hidden)),\n",
    "                  V(torch.zeros(self.nl,bs,n_hidden)))\n",
    "        \n",
    "    def forward(self, cs):\n",
    "        bs = cs[0].size(0)\n",
    "        if bs != self.h[0].size(1):\n",
    "            self.init_hidden(bs)\n",
    "        outp, h = self.rnn(self.e(cs), self.h)\n",
    "        self.h = repackage_var(h)\n",
    "        return F.log_softmax(self.l_out(outp), dim=-1).view(-1, self.vocab_size)"
   ]
  },
  {
   "cell_type": "code",
   "execution_count": 79,
   "metadata": {},
   "outputs": [],
   "source": [
    "m = CharSeqStatefulLSTM(md.nt, n_fac, 512, 2).cuda()\n",
    "\n",
    " #fastai layer optimizer for differentiable learning rates and callbacks\n",
    "lo = LayerOptimizer(optim.Adam, m, 1e-2, 1e-5)\n"
   ]
  },
  {
   "cell_type": "code",
   "execution_count": 80,
   "metadata": {},
   "outputs": [
    {
     "data": {
      "application/vnd.jupyter.widget-view+json": {
       "model_id": "61ba97c087a84ce68208ef8c1cd0fd22",
       "version_major": 2,
       "version_minor": 0
      },
      "text/plain": [
       "HBox(children=(IntProgress(value=0, description='Epoch', max=2, style=ProgressStyle(description_width='initial…"
      ]
     },
     "metadata": {},
     "output_type": "display_data"
    },
    {
     "name": "stdout",
     "output_type": "stream",
     "text": [
      "epoch      trn_loss   val_loss                                \n",
      "    0      1.892915   1.823314  \n",
      "    1      1.751633   1.681082                                \n",
      "\n"
     ]
    },
    {
     "data": {
      "text/plain": [
       "[array([1.68108])]"
      ]
     },
     "execution_count": 80,
     "metadata": {},
     "output_type": "execute_result"
    }
   ],
   "source": [
    "fit(m, md, 2, lo.opt, F.nll_loss)"
   ]
  },
  {
   "cell_type": "code",
   "execution_count": 81,
   "metadata": {},
   "outputs": [],
   "source": [
    "os.makedirs(f'{PATH}models', exist_ok=True)"
   ]
  },
  {
   "cell_type": "code",
   "execution_count": 82,
   "metadata": {},
   "outputs": [
    {
     "data": {
      "application/vnd.jupyter.widget-view+json": {
       "model_id": "8ab4a7b64912436dadbc24455738ac8e",
       "version_major": 2,
       "version_minor": 0
      },
      "text/plain": [
       "HBox(children=(IntProgress(value=0, description='Epoch', max=15, style=ProgressStyle(description_width='initia…"
      ]
     },
     "metadata": {},
     "output_type": "display_data"
    },
    {
     "name": "stdout",
     "output_type": "stream",
     "text": [
      "epoch      trn_loss   val_loss                                \n",
      "    0      1.594755   1.555376  \n",
      "    1      1.619378   1.571361                                \n",
      "    2      1.518302   1.49042                                 \n",
      "    3      1.625476   1.577819                                \n",
      "    4      1.558453   1.520086                                \n",
      "    5      1.490367   1.459466                                \n",
      "    6      1.434651   1.426745                                \n",
      "    7      1.591122   1.5514                                  \n",
      "    8      1.564776   1.524005                                \n",
      "    9      1.541792   1.499146                                \n",
      "    10     1.496917   1.471543                                \n",
      "    11     1.461271   1.441122                                \n",
      "    12     1.417949   1.408002                                \n",
      "    13     1.382665   1.381342                                \n",
      "    14     1.355372   1.366861                                \n",
      "\n"
     ]
    },
    {
     "data": {
      "text/plain": [
       "[array([1.36686])]"
      ]
     },
     "execution_count": 82,
     "metadata": {},
     "output_type": "execute_result"
    }
   ],
   "source": [
    "#updates lr in lo using cb callback which is called every cycle end, \n",
    "#saves models automatically at the end of the cycle \n",
    "on_end = lambda sched, cycle: save_model(m, f'{PATH}models/cyc_{cycle}')\n",
    "cb = [CosAnneal(lo, len(md.trn_dl), cycle_mult=2, on_cycle_end=on_end)]\n",
    "fit(m, md, 2**4-1, lo.opt, F.nll_loss, callbacks=cb)"
   ]
  },
  {
   "cell_type": "code",
   "execution_count": 83,
   "metadata": {},
   "outputs": [
    {
     "data": {
      "application/vnd.jupyter.widget-view+json": {
       "model_id": "ab9886550a774f9ea16ed063a1d3aca7",
       "version_major": 2,
       "version_minor": 0
      },
      "text/plain": [
       "HBox(children=(IntProgress(value=0, description='Epoch', max=63, style=ProgressStyle(description_width='initia…"
      ]
     },
     "metadata": {},
     "output_type": "display_data"
    },
    {
     "name": "stdout",
     "output_type": "stream",
     "text": [
      "epoch      trn_loss   val_loss                                \n",
      "    0      1.352313   1.364385  \n",
      "    1      1.348974   1.361212                                \n",
      "    2      1.341185   1.358837                                \n",
      "    3      1.345829   1.356446                                \n",
      "    4      1.339915   1.352294                                \n",
      "    5      1.322869   1.348898                                \n",
      "    6      1.327268   1.347601                                \n",
      "    7      1.321966   1.347394                                \n",
      "    8      1.321292   1.343569                                \n",
      "    9      1.309917   1.340022                                \n",
      "    10     1.302994   1.337294                                \n",
      "    11     1.296835   1.334542                                \n",
      "    12     1.291377   1.332001                                \n",
      "    13     1.287559   1.330803                                \n",
      "    14     1.280745   1.330033                                \n",
      "    15     1.289892   1.33362                                 \n",
      "    16     1.277705   1.330525                                \n",
      "    17     1.284256   1.328912                                \n",
      "    18     1.271035   1.326676                                \n",
      "    19     1.256237   1.32574                                 \n",
      "    20     1.248928   1.323041                                \n",
      "    21     1.242656   1.322375                                \n",
      "    22     1.236006   1.321413                                \n",
      "    23     1.228876   1.319799                                \n",
      "    24     1.223602   1.31939                                 \n",
      "    25     1.216287   1.319829                                \n",
      "    26     1.212784   1.319566                                \n",
      "    27     1.205418   1.318839                                \n",
      "    28     1.201286   1.318514                                \n",
      "    29     1.191708   1.318282                                \n",
      "    30     1.198551   1.318421                                \n",
      "    31     1.199202   1.318493                                \n",
      "    32     1.21385    1.321067                                \n",
      "    33     1.21093    1.320228                                \n",
      "    34     1.20497    1.323413                                \n",
      "    35     1.195507   1.323766                                \n",
      "    36     1.183456   1.324722                                \n",
      "    37     1.1773     1.32472                                 \n",
      "    38     1.167318   1.327132                                \n",
      "    39     1.159759   1.328017                                \n",
      "    40     1.153783   1.328673                                \n",
      "    41     1.143311   1.332008                                \n",
      "    42     1.132998   1.333564                                \n",
      "    43     1.129409   1.334962                                \n",
      "    44     1.115116   1.336775                                \n",
      "    45     1.111724   1.340483                                \n",
      "    46     1.100577   1.342674                                \n",
      "    47     1.099317   1.344413                                \n",
      "    48     1.090902   1.346148                                \n",
      "    49     1.083227   1.348113                                \n",
      "    50     1.081934   1.350399                                \n",
      "    51     1.07581    1.35058                                 \n",
      "    52     1.069386   1.352216                                \n",
      "    53     1.059704   1.354243                                \n",
      "    54     1.057375   1.354441                                \n",
      "    55     1.056724   1.356341                                \n",
      "    56     1.05395    1.356212                                \n",
      "    57     1.046406   1.357163                                \n",
      "    58     1.047409   1.357822                                \n",
      "    59     1.044233   1.358583                                \n",
      "    60     1.042689   1.358407                                \n",
      "    61     1.039493   1.358633                                \n",
      "    62     1.042329   1.358682                                \n",
      "\n"
     ]
    },
    {
     "data": {
      "text/plain": [
       "[array([1.35868])]"
      ]
     },
     "execution_count": 83,
     "metadata": {},
     "output_type": "execute_result"
    }
   ],
   "source": [
    "on_end = lambda sched, cycle: save_model(m, f'{PATH}models/cyc_{cycle}')\n",
    "cb = [CosAnneal(lo, len(md.trn_dl), cycle_mult=2, on_cycle_end=on_end)]\n",
    "fit(m, md, 2**6-1, lo.opt, F.nll_loss, callbacks=cb)"
   ]
  },
  {
   "cell_type": "markdown",
   "metadata": {},
   "source": [
    "## Model Testing: LSTM\n",
    "\n",
    "There is a great improvement from our previous models, but this can be further improved by using a bi-directional model. The model also seems to be overfitting the data too. "
   ]
  },
  {
   "cell_type": "code",
   "execution_count": 84,
   "metadata": {},
   "outputs": [
    {
     "name": "stdout",
     "output_type": "stream",
     "text": [
      "for those who knew her,settleness, because the occasionany steepes ofcorner's affectionments of that corning on the vollence.\"as! the young everything to be hurried.\"i am going to-night?\"\"i think new, wear, in all on the road. charles sat by the meaning of rehusit, it had a red of degandless life, excepted to the sbort of two attentively, to gracioussecoars by, englandi ask,! saidam about!\" said mr. lorry; agai\n"
     ]
    }
   ],
   "source": [
    "print(get_next_n('for those who ', 400))"
   ]
  }
 ],
 "metadata": {
  "kernelspec": {
   "display_name": "Python 3",
   "language": "python",
   "name": "python3"
  },
  "language_info": {
   "codemirror_mode": {
    "name": "ipython",
    "version": 3
   },
   "file_extension": ".py",
   "mimetype": "text/x-python",
   "name": "python",
   "nbconvert_exporter": "python",
   "pygments_lexer": "ipython3",
   "version": "3.6.6"
  },
  "widgets": {
   "application/vnd.jupyter.widget-state+json": {
    "state": {
     "00cc6a876ba94058b93b1407b5b81be7": {
      "model_module": "@jupyter-widgets/controls",
      "model_module_version": "1.4.0",
      "model_name": "IntProgressModel",
      "state": {
       "bar_style": "success",
       "description": "Epoch",
       "layout": "IPY_MODEL_6780be37645c48a191053d99b6acb2a7",
       "max": 1,
       "style": "IPY_MODEL_b045f1a34a6343ba94bb4374d1dd3fea",
       "value": 1
      }
     },
     "010642cebab14a6ea22a737f59dae0c8": {
      "model_module": "@jupyter-widgets/controls",
      "model_module_version": "1.4.0",
      "model_name": "IntProgressModel",
      "state": {
       "bar_style": "success",
       "description": "Epoch",
       "layout": "IPY_MODEL_abdd973679c141da81685e6cf4f82810",
       "max": 4,
       "style": "IPY_MODEL_d8b57008c305453a82138e802c619d6f",
       "value": 4
      }
     },
     "0451b69c6913451b88c51d07bf964e25": {
      "model_module": "@jupyter-widgets/base",
      "model_module_version": "1.1.0",
      "model_name": "LayoutModel",
      "state": {}
     },
     "05e2d78be8b34e2d88613bc8462e4941": {
      "model_module": "@jupyter-widgets/base",
      "model_module_version": "1.1.0",
      "model_name": "LayoutModel",
      "state": {}
     },
     "062a3743a2e44d6392ff186c93dec992": {
      "model_module": "@jupyter-widgets/base",
      "model_module_version": "1.1.0",
      "model_name": "LayoutModel",
      "state": {}
     },
     "065eabffb93f422e9aa81c206bf5ec16": {
      "model_module": "@jupyter-widgets/controls",
      "model_module_version": "1.4.0",
      "model_name": "DescriptionStyleModel",
      "state": {
       "description_width": ""
      }
     },
     "0665e5b00a8d4fd192f1209db9ac7116": {
      "model_module": "@jupyter-widgets/controls",
      "model_module_version": "1.4.0",
      "model_name": "HBoxModel",
      "state": {
       "children": [
        "IPY_MODEL_00cc6a876ba94058b93b1407b5b81be7",
        "IPY_MODEL_18565c057b0343629eed9cef99fd4a90"
       ],
       "layout": "IPY_MODEL_4b0fc18065714fb989ecba50c5ce7f88"
      }
     },
     "06a9b7a2c37b42029ea25a23eb6461b6": {
      "model_module": "@jupyter-widgets/base",
      "model_module_version": "1.1.0",
      "model_name": "LayoutModel",
      "state": {}
     },
     "074cbb20a152430a86a7d8910349e484": {
      "model_module": "@jupyter-widgets/base",
      "model_module_version": "1.1.0",
      "model_name": "LayoutModel",
      "state": {}
     },
     "0973f9eea21d4c628d9c9d00c36a7d25": {
      "model_module": "@jupyter-widgets/base",
      "model_module_version": "1.1.0",
      "model_name": "LayoutModel",
      "state": {}
     },
     "0c0565664adb4e26b5dc7a007473a09e": {
      "model_module": "@jupyter-widgets/base",
      "model_module_version": "1.1.0",
      "model_name": "LayoutModel",
      "state": {}
     },
     "1172db03591f4ad8aa18a9d4d20b8b36": {
      "model_module": "@jupyter-widgets/controls",
      "model_module_version": "1.4.0",
      "model_name": "IntProgressModel",
      "state": {
       "bar_style": "success",
       "description": "Epoch",
       "layout": "IPY_MODEL_725782ff459a4575b249b27c2dccb7fb",
       "max": 2,
       "style": "IPY_MODEL_92cbb055bd284be69d6f087b83bec958",
       "value": 2
      }
     },
     "119fdbfd99754d19872695cff5c19840": {
      "model_module": "@jupyter-widgets/controls",
      "model_module_version": "1.4.0",
      "model_name": "IntProgressModel",
      "state": {
       "bar_style": "success",
       "description": "Epoch",
       "layout": "IPY_MODEL_7c465248dfdf494bae367908f847d030",
       "max": 3,
       "style": "IPY_MODEL_330aa203bb88475d8e837524de045aac",
       "value": 3
      }
     },
     "11e7fdb860ef49ac8f2920e27e1afe67": {
      "model_module": "@jupyter-widgets/controls",
      "model_module_version": "1.4.0",
      "model_name": "ProgressStyleModel",
      "state": {
       "description_width": "initial"
      }
     },
     "15e5671cd9bb467586c7fca3d074b0d5": {
      "model_module": "@jupyter-widgets/controls",
      "model_module_version": "1.4.0",
      "model_name": "IntProgressModel",
      "state": {
       "bar_style": "success",
       "description": "Epoch",
       "layout": "IPY_MODEL_0451b69c6913451b88c51d07bf964e25",
       "max": 63,
       "style": "IPY_MODEL_578c7573ae844a12a665e8712b738301",
       "value": 63
      }
     },
     "16d1f53be81c40f4ba47ed579348ed4a": {
      "model_module": "@jupyter-widgets/base",
      "model_module_version": "1.1.0",
      "model_name": "LayoutModel",
      "state": {}
     },
     "174062fe221c4ecc9e2e6024e9350b35": {
      "model_module": "@jupyter-widgets/controls",
      "model_module_version": "1.4.0",
      "model_name": "IntProgressModel",
      "state": {
       "bar_style": "success",
       "description": "Epoch",
       "layout": "IPY_MODEL_f12abf64b1564bd09876a1f4056e6bca",
       "max": 3,
       "style": "IPY_MODEL_234f997a53cd4b45845e027ca80739ac",
       "value": 3
      }
     },
     "17c2c4067331457c9ec77e1d4b395822": {
      "model_module": "@jupyter-widgets/base",
      "model_module_version": "1.1.0",
      "model_name": "LayoutModel",
      "state": {}
     },
     "18565c057b0343629eed9cef99fd4a90": {
      "model_module": "@jupyter-widgets/controls",
      "model_module_version": "1.4.0",
      "model_name": "HTMLModel",
      "state": {
       "layout": "IPY_MODEL_ee179971d13247aca7e60675c600ccad",
       "style": "IPY_MODEL_d7bd7ce38ae4496da86ac8a63f8e9823",
       "value": "100% 1/1 [00:05&lt;00:00,  5.47s/it]"
      }
     },
     "198f22f29ff14407ae6cfb56d99692f7": {
      "model_module": "@jupyter-widgets/base",
      "model_module_version": "1.1.0",
      "model_name": "LayoutModel",
      "state": {}
     },
     "19c8c09ca1c4402091d88b8b17fa3a2c": {
      "model_module": "@jupyter-widgets/base",
      "model_module_version": "1.1.0",
      "model_name": "LayoutModel",
      "state": {}
     },
     "1b20c21e9ee94c00b2692b9bb2c472f5": {
      "model_module": "@jupyter-widgets/controls",
      "model_module_version": "1.4.0",
      "model_name": "DescriptionStyleModel",
      "state": {
       "description_width": ""
      }
     },
     "1bad8cf1c2a34c4eb5d42153d2e984e5": {
      "model_module": "@jupyter-widgets/controls",
      "model_module_version": "1.4.0",
      "model_name": "HBoxModel",
      "state": {
       "children": [
        "IPY_MODEL_98ca8f0e098d494bab46dbc44c44b004",
        "IPY_MODEL_1d8248c8bf354704a67d358aefe0734d"
       ],
       "layout": "IPY_MODEL_b436352eef7244e6bb4ae196b03ff9da"
      }
     },
     "1d71b4a006c04695bde717f692f1c386": {
      "model_module": "@jupyter-widgets/controls",
      "model_module_version": "1.4.0",
      "model_name": "ProgressStyleModel",
      "state": {
       "description_width": "initial"
      }
     },
     "1d8248c8bf354704a67d358aefe0734d": {
      "model_module": "@jupyter-widgets/controls",
      "model_module_version": "1.4.0",
      "model_name": "HTMLModel",
      "state": {
       "layout": "IPY_MODEL_dc14e5fb6a064143a6a514f2fca5f3e2",
       "style": "IPY_MODEL_4b65a2b4dad54164a3b0db4071274162",
       "value": "100% 4/4 [01:36&lt;00:00, 24.08s/it]"
      }
     },
     "1d8fd2d153f54a39b376a7102e78c7a1": {
      "model_module": "@jupyter-widgets/controls",
      "model_module_version": "1.4.0",
      "model_name": "IntProgressModel",
      "state": {
       "bar_style": "success",
       "description": "Epoch",
       "layout": "IPY_MODEL_0c0565664adb4e26b5dc7a007473a09e",
       "max": 1,
       "style": "IPY_MODEL_4de469f21bfa4d7b800f3eca11a831d1",
       "value": 1
      }
     },
     "1d9130b5e54e4748a3b0222ea99430f1": {
      "model_module": "@jupyter-widgets/controls",
      "model_module_version": "1.4.0",
      "model_name": "ProgressStyleModel",
      "state": {
       "description_width": "initial"
      }
     },
     "1dd0144811154ff6808898342c11dd23": {
      "model_module": "@jupyter-widgets/base",
      "model_module_version": "1.1.0",
      "model_name": "LayoutModel",
      "state": {}
     },
     "1ddc0e479d6f436c8d9ff8605fcd964b": {
      "model_module": "@jupyter-widgets/controls",
      "model_module_version": "1.4.0",
      "model_name": "HTMLModel",
      "state": {
       "layout": "IPY_MODEL_3432fd60f08c4310b74363822804d852",
       "style": "IPY_MODEL_d120fcb5ed9d4e75bfec8ed103e38239",
       "value": "100% 1/1 [00:00&lt;00:00,  1.83it/s]"
      }
     },
     "202401b24ae64c18a0f4b8ce23b9067d": {
      "model_module": "@jupyter-widgets/controls",
      "model_module_version": "1.4.0",
      "model_name": "HTMLModel",
      "state": {
       "layout": "IPY_MODEL_4f952e6251ec4d95a31498b89cde49a7",
       "style": "IPY_MODEL_e367cc3b186d4dfb85c8f0dfd7ca20c9",
       "value": "100% 4/4 [00:01&lt;00:00,  3.51it/s]"
      }
     },
     "228f114fe65649ff8152b328575dab7c": {
      "model_module": "@jupyter-widgets/base",
      "model_module_version": "1.1.0",
      "model_name": "LayoutModel",
      "state": {}
     },
     "233f19bae40b448b991fd040468c9546": {
      "model_module": "@jupyter-widgets/base",
      "model_module_version": "1.1.0",
      "model_name": "LayoutModel",
      "state": {}
     },
     "234f997a53cd4b45845e027ca80739ac": {
      "model_module": "@jupyter-widgets/controls",
      "model_module_version": "1.4.0",
      "model_name": "ProgressStyleModel",
      "state": {
       "description_width": "initial"
      }
     },
     "23ace51d174c43e9966ba56a339b04de": {
      "model_module": "@jupyter-widgets/base",
      "model_module_version": "1.1.0",
      "model_name": "LayoutModel",
      "state": {}
     },
     "24023613285741b9841461f4fd3480a5": {
      "model_module": "@jupyter-widgets/controls",
      "model_module_version": "1.4.0",
      "model_name": "HBoxModel",
      "state": {
       "children": [
        "IPY_MODEL_35f5c0b95e9844ac9ca308c0a7b00da2",
        "IPY_MODEL_1ddc0e479d6f436c8d9ff8605fcd964b"
       ],
       "layout": "IPY_MODEL_84289d3fb1744357b10f181dd3264d50"
      }
     },
     "25077abdd1104a1387a9cf4163a5b467": {
      "model_module": "@jupyter-widgets/controls",
      "model_module_version": "1.4.0",
      "model_name": "ProgressStyleModel",
      "state": {
       "description_width": "initial"
      }
     },
     "262ac5c6b57747d885d968fd10f23340": {
      "model_module": "@jupyter-widgets/controls",
      "model_module_version": "1.4.0",
      "model_name": "DescriptionStyleModel",
      "state": {
       "description_width": ""
      }
     },
     "293f5253de7f4f03954e8ddfbded4fd8": {
      "model_module": "@jupyter-widgets/controls",
      "model_module_version": "1.4.0",
      "model_name": "ProgressStyleModel",
      "state": {
       "description_width": "initial"
      }
     },
     "2bd75c88cca94d519cbcff1bbeb34363": {
      "model_module": "@jupyter-widgets/controls",
      "model_module_version": "1.4.0",
      "model_name": "IntProgressModel",
      "state": {
       "bar_style": "success",
       "description": "Epoch",
       "layout": "IPY_MODEL_845129090aca4b23acf6355eeb21db09",
       "max": 15,
       "style": "IPY_MODEL_1d71b4a006c04695bde717f692f1c386",
       "value": 15
      }
     },
     "2d5d7e9822d94af78d6549f0f9647fd0": {
      "model_module": "@jupyter-widgets/controls",
      "model_module_version": "1.4.0",
      "model_name": "DescriptionStyleModel",
      "state": {
       "description_width": ""
      }
     },
     "2d84c6af49de40a3b85f28d954f65b06": {
      "model_module": "@jupyter-widgets/controls",
      "model_module_version": "1.4.0",
      "model_name": "DescriptionStyleModel",
      "state": {
       "description_width": ""
      }
     },
     "2dc2e018516e446da09a6b5bf6900c7f": {
      "model_module": "@jupyter-widgets/base",
      "model_module_version": "1.1.0",
      "model_name": "LayoutModel",
      "state": {}
     },
     "2f0791b49ebb4ef8ad247ffd530e4ccc": {
      "model_module": "@jupyter-widgets/base",
      "model_module_version": "1.1.0",
      "model_name": "LayoutModel",
      "state": {}
     },
     "300046b4a6194b02b280b2cd649832c7": {
      "model_module": "@jupyter-widgets/controls",
      "model_module_version": "1.4.0",
      "model_name": "HTMLModel",
      "state": {
       "layout": "IPY_MODEL_1dd0144811154ff6808898342c11dd23",
       "style": "IPY_MODEL_56191434f2b94c4bac5dfa913e06738e",
       "value": "100% 1/1 [00:00&lt;00:00,  3.41it/s]"
      }
     },
     "3166f9ab1dcc4e1d99efa61efdba7965": {
      "model_module": "@jupyter-widgets/base",
      "model_module_version": "1.1.0",
      "model_name": "LayoutModel",
      "state": {}
     },
     "31c3f006b262449d8561424757da7ff9": {
      "model_module": "@jupyter-widgets/base",
      "model_module_version": "1.1.0",
      "model_name": "LayoutModel",
      "state": {}
     },
     "320b58be2f4c46d4aebb2f01df3ce71d": {
      "model_module": "@jupyter-widgets/controls",
      "model_module_version": "1.4.0",
      "model_name": "IntProgressModel",
      "state": {
       "bar_style": "success",
       "description": "Epoch",
       "layout": "IPY_MODEL_6aea69313f8f4944b5b661c90cbb7722",
       "max": 2,
       "style": "IPY_MODEL_293f5253de7f4f03954e8ddfbded4fd8",
       "value": 2
      }
     },
     "330aa203bb88475d8e837524de045aac": {
      "model_module": "@jupyter-widgets/controls",
      "model_module_version": "1.4.0",
      "model_name": "ProgressStyleModel",
      "state": {
       "description_width": "initial"
      }
     },
     "335fc55558d64a7ca460b90d18f3eb76": {
      "model_module": "@jupyter-widgets/controls",
      "model_module_version": "1.4.0",
      "model_name": "HBoxModel",
      "state": {
       "children": [
        "IPY_MODEL_b11d6f1bbbf948f9a69ab102b6fa4476",
        "IPY_MODEL_91b1e272528f4e4e848dfb073b0b89ce"
       ],
       "layout": "IPY_MODEL_b9113c2460ad45a882c29bd67cb4b133"
      }
     },
     "3432fd60f08c4310b74363822804d852": {
      "model_module": "@jupyter-widgets/base",
      "model_module_version": "1.1.0",
      "model_name": "LayoutModel",
      "state": {}
     },
     "35f5c0b95e9844ac9ca308c0a7b00da2": {
      "model_module": "@jupyter-widgets/controls",
      "model_module_version": "1.4.0",
      "model_name": "IntProgressModel",
      "state": {
       "bar_style": "success",
       "description": "Epoch",
       "layout": "IPY_MODEL_f378a1c54443462b9ade6aa1fa596ff4",
       "max": 1,
       "style": "IPY_MODEL_25077abdd1104a1387a9cf4163a5b467",
       "value": 1
      }
     },
     "3601a30678f5426390d7e223332e62e8": {
      "model_module": "@jupyter-widgets/base",
      "model_module_version": "1.1.0",
      "model_name": "LayoutModel",
      "state": {}
     },
     "3668f2e23aa94bfab97b0e6385bf085b": {
      "model_module": "@jupyter-widgets/controls",
      "model_module_version": "1.4.0",
      "model_name": "ProgressStyleModel",
      "state": {
       "description_width": "initial"
      }
     },
     "37d57f53bfcb4d2bb43a88476422c3f1": {
      "model_module": "@jupyter-widgets/controls",
      "model_module_version": "1.4.0",
      "model_name": "HTMLModel",
      "state": {
       "layout": "IPY_MODEL_062a3743a2e44d6392ff186c93dec992",
       "style": "IPY_MODEL_cda7d7da25ff430c92db78add77ab6ea",
       "value": "100% 63/63 [17:00&lt;00:00, 16.17s/it]"
      }
     },
     "3876be8a0a214475b726228bc89230be": {
      "model_module": "@jupyter-widgets/controls",
      "model_module_version": "1.4.0",
      "model_name": "ProgressStyleModel",
      "state": {
       "description_width": "initial"
      }
     },
     "3fb2b82dd7b64b2d96950dc9d0202b02": {
      "model_module": "@jupyter-widgets/base",
      "model_module_version": "1.1.0",
      "model_name": "LayoutModel",
      "state": {}
     },
     "4038e77f051f482b9e1d65031d49234b": {
      "model_module": "@jupyter-widgets/controls",
      "model_module_version": "1.4.0",
      "model_name": "DescriptionStyleModel",
      "state": {
       "description_width": ""
      }
     },
     "415d3ca063654e8881e9619f1fbf916a": {
      "model_module": "@jupyter-widgets/controls",
      "model_module_version": "1.4.0",
      "model_name": "HBoxModel",
      "state": {
       "children": [
        "IPY_MODEL_4482e3d5c41a4003b90b4c7b1de44358",
        "IPY_MODEL_300046b4a6194b02b280b2cd649832c7"
       ],
       "layout": "IPY_MODEL_b58f1bb7b93344a6a666f042a3c1a192"
      }
     },
     "41b7da23fcd44c1eaf0338e01912d91d": {
      "model_module": "@jupyter-widgets/controls",
      "model_module_version": "1.4.0",
      "model_name": "IntProgressModel",
      "state": {
       "bar_style": "success",
       "description": "Epoch",
       "layout": "IPY_MODEL_31c3f006b262449d8561424757da7ff9",
       "max": 6,
       "style": "IPY_MODEL_3668f2e23aa94bfab97b0e6385bf085b",
       "value": 6
      }
     },
     "41daca78da5f4790963630d927635746": {
      "model_module": "@jupyter-widgets/controls",
      "model_module_version": "1.4.0",
      "model_name": "HBoxModel",
      "state": {
       "children": [
        "IPY_MODEL_174062fe221c4ecc9e2e6024e9350b35",
        "IPY_MODEL_9b9b8490bf154360a77326cc93ba3ca7"
       ],
       "layout": "IPY_MODEL_baf8050c920340fdbd77d0947fd0a887"
      }
     },
     "42a8e112cc2e450aa461322c14277f74": {
      "model_module": "@jupyter-widgets/base",
      "model_module_version": "1.1.0",
      "model_name": "LayoutModel",
      "state": {}
     },
     "42f54599108947d5a5a7de72fc952ec6": {
      "model_module": "@jupyter-widgets/base",
      "model_module_version": "1.1.0",
      "model_name": "LayoutModel",
      "state": {}
     },
     "43666f6fbf844e99b22deff93a26ecd2": {
      "model_module": "@jupyter-widgets/controls",
      "model_module_version": "1.4.0",
      "model_name": "HBoxModel",
      "state": {
       "children": [
        "IPY_MODEL_9bdbb6ad63ee4d1f9c63fad00ac3af1d",
        "IPY_MODEL_cd54779644c74c52801bf493b34eede6"
       ],
       "layout": "IPY_MODEL_7bbf757fad294aba878f79252b247622"
      }
     },
     "4482e3d5c41a4003b90b4c7b1de44358": {
      "model_module": "@jupyter-widgets/controls",
      "model_module_version": "1.4.0",
      "model_name": "IntProgressModel",
      "state": {
       "bar_style": "success",
       "description": "Epoch",
       "layout": "IPY_MODEL_66b5fdde84a84983ad77dd39772b7483",
       "max": 1,
       "style": "IPY_MODEL_ec08b450edb54115b149802bcf043ed7",
       "value": 1
      }
     },
     "4487615104d142a281a1cfd4f15557b0": {
      "model_module": "@jupyter-widgets/controls",
      "model_module_version": "1.4.0",
      "model_name": "ProgressStyleModel",
      "state": {
       "description_width": "initial"
      }
     },
     "454dbb97f78f420c9b9db324b2386116": {
      "model_module": "@jupyter-widgets/controls",
      "model_module_version": "1.4.0",
      "model_name": "ProgressStyleModel",
      "state": {
       "description_width": "initial"
      }
     },
     "483d864c9fe848f2b32191cca2126ec9": {
      "model_module": "@jupyter-widgets/base",
      "model_module_version": "1.1.0",
      "model_name": "LayoutModel",
      "state": {}
     },
     "49925378c38049f597dc9bf0663cffff": {
      "model_module": "@jupyter-widgets/controls",
      "model_module_version": "1.4.0",
      "model_name": "IntProgressModel",
      "state": {
       "bar_style": "success",
       "description": "Epoch",
       "layout": "IPY_MODEL_55f33fb15da54eecbf76fc953f143e8c",
       "max": 1,
       "style": "IPY_MODEL_cbc2dcdee8bf439bac3995c1f6688d5f",
       "value": 1
      }
     },
     "49d3dc1531fe4237b1929141bb0841d9": {
      "model_module": "@jupyter-widgets/base",
      "model_module_version": "1.1.0",
      "model_name": "LayoutModel",
      "state": {}
     },
     "4b0fc18065714fb989ecba50c5ce7f88": {
      "model_module": "@jupyter-widgets/base",
      "model_module_version": "1.1.0",
      "model_name": "LayoutModel",
      "state": {}
     },
     "4b65a2b4dad54164a3b0db4071274162": {
      "model_module": "@jupyter-widgets/controls",
      "model_module_version": "1.4.0",
      "model_name": "DescriptionStyleModel",
      "state": {
       "description_width": ""
      }
     },
     "4cfdc728ac1d49088ed7d2be66c085f4": {
      "model_module": "@jupyter-widgets/controls",
      "model_module_version": "1.4.0",
      "model_name": "ProgressStyleModel",
      "state": {
       "description_width": "initial"
      }
     },
     "4de469f21bfa4d7b800f3eca11a831d1": {
      "model_module": "@jupyter-widgets/controls",
      "model_module_version": "1.4.0",
      "model_name": "ProgressStyleModel",
      "state": {
       "description_width": "initial"
      }
     },
     "4f952e6251ec4d95a31498b89cde49a7": {
      "model_module": "@jupyter-widgets/base",
      "model_module_version": "1.1.0",
      "model_name": "LayoutModel",
      "state": {}
     },
     "4faeeda53ad24bfaae9ba6425579202a": {
      "model_module": "@jupyter-widgets/controls",
      "model_module_version": "1.4.0",
      "model_name": "ProgressStyleModel",
      "state": {
       "description_width": "initial"
      }
     },
     "509156089f2441ceafc950dca99cd120": {
      "model_module": "@jupyter-widgets/controls",
      "model_module_version": "1.4.0",
      "model_name": "HTMLModel",
      "state": {
       "layout": "IPY_MODEL_198f22f29ff14407ae6cfb56d99692f7",
       "style": "IPY_MODEL_a42f524119b94db2ac68c9bd282e52aa",
       "value": "100% 1/1 [00:28&lt;00:00, 28.84s/it]"
      }
     },
     "5211c501b86a4f81a875c19ec9bb9650": {
      "model_module": "@jupyter-widgets/controls",
      "model_module_version": "1.4.0",
      "model_name": "HBoxModel",
      "state": {
       "children": [
        "IPY_MODEL_7b0a2600d64e4671b6728a7e3ab346de",
        "IPY_MODEL_a6171bf1ccfa42d2b5d067c4ae5a285a"
       ],
       "layout": "IPY_MODEL_dbdfb7cf51714f86aea87ff5d7196155"
      }
     },
     "55f33fb15da54eecbf76fc953f143e8c": {
      "model_module": "@jupyter-widgets/base",
      "model_module_version": "1.1.0",
      "model_name": "LayoutModel",
      "state": {}
     },
     "56191434f2b94c4bac5dfa913e06738e": {
      "model_module": "@jupyter-widgets/controls",
      "model_module_version": "1.4.0",
      "model_name": "DescriptionStyleModel",
      "state": {
       "description_width": ""
      }
     },
     "5703adad55a44d9db2079162973b1524": {
      "model_module": "@jupyter-widgets/base",
      "model_module_version": "1.1.0",
      "model_name": "LayoutModel",
      "state": {}
     },
     "5723c05649d942ceaceecf280581e845": {
      "model_module": "@jupyter-widgets/controls",
      "model_module_version": "1.4.0",
      "model_name": "ProgressStyleModel",
      "state": {
       "description_width": "initial"
      }
     },
     "578c7573ae844a12a665e8712b738301": {
      "model_module": "@jupyter-widgets/controls",
      "model_module_version": "1.4.0",
      "model_name": "ProgressStyleModel",
      "state": {
       "description_width": "initial"
      }
     },
     "58bb928361d94455b27a4a3de656a8b0": {
      "model_module": "@jupyter-widgets/controls",
      "model_module_version": "1.4.0",
      "model_name": "ProgressStyleModel",
      "state": {
       "description_width": "initial"
      }
     },
     "5948644cd8034e6a962fbb1478b4f9b1": {
      "model_module": "@jupyter-widgets/base",
      "model_module_version": "1.1.0",
      "model_name": "LayoutModel",
      "state": {}
     },
     "5affc8b27f37404e95d4106a0354ee64": {
      "model_module": "@jupyter-widgets/controls",
      "model_module_version": "1.4.0",
      "model_name": "DescriptionStyleModel",
      "state": {
       "description_width": ""
      }
     },
     "5c27df6e6d664527a161963d2cf90c45": {
      "model_module": "@jupyter-widgets/controls",
      "model_module_version": "1.4.0",
      "model_name": "DescriptionStyleModel",
      "state": {
       "description_width": ""
      }
     },
     "5c9074fc83a94b438ad7a53615252d4c": {
      "model_module": "@jupyter-widgets/controls",
      "model_module_version": "1.4.0",
      "model_name": "HBoxModel",
      "state": {
       "children": [
        "IPY_MODEL_49925378c38049f597dc9bf0663cffff",
        "IPY_MODEL_761a51e1dd9f41319c9e8165097e141d"
       ],
       "layout": "IPY_MODEL_efba64bd30ec4fb1a89e675fc97f1283"
      }
     },
     "5dfa6c3b36a74e01af033d36d98df28c": {
      "model_module": "@jupyter-widgets/controls",
      "model_module_version": "1.4.0",
      "model_name": "HBoxModel",
      "state": {
       "children": [
        "IPY_MODEL_a08d8cde093a459092842d0555dac214",
        "IPY_MODEL_6726dc11a52049b5a3ed9b5975583a54"
       ],
       "layout": "IPY_MODEL_bdb8ca264f6a4e569b049012d1f13359"
      }
     },
     "5e5c03c3064843d8abe115cd2768fc0e": {
      "model_module": "@jupyter-widgets/controls",
      "model_module_version": "1.4.0",
      "model_name": "DescriptionStyleModel",
      "state": {
       "description_width": ""
      }
     },
     "5f869bee491f413aa03bfd46ca2f993b": {
      "model_module": "@jupyter-widgets/controls",
      "model_module_version": "1.4.0",
      "model_name": "IntProgressModel",
      "state": {
       "bar_style": "success",
       "description": "Epoch",
       "layout": "IPY_MODEL_7e3337e818064ac8a59496a11fbdbef2",
       "max": 6,
       "style": "IPY_MODEL_5723c05649d942ceaceecf280581e845",
       "value": 6
      }
     },
     "607a8bb4480245f09670a9b92f9b151c": {
      "model_module": "@jupyter-widgets/controls",
      "model_module_version": "1.4.0",
      "model_name": "IntProgressModel",
      "state": {
       "bar_style": "success",
       "description": "Epoch",
       "layout": "IPY_MODEL_c2a51c44cc8f43f8b247419dab38ed45",
       "max": 15,
       "style": "IPY_MODEL_58bb928361d94455b27a4a3de656a8b0",
       "value": 15
      }
     },
     "61ba97c087a84ce68208ef8c1cd0fd22": {
      "model_module": "@jupyter-widgets/controls",
      "model_module_version": "1.4.0",
      "model_name": "HBoxModel",
      "state": {
       "children": [
        "IPY_MODEL_f4e6d3d35c1444e995d6dd64b7904aaa",
        "IPY_MODEL_6c40d3f0487e4db0867e7c19e8f41dd2"
       ],
       "layout": "IPY_MODEL_05e2d78be8b34e2d88613bc8462e4941"
      }
     },
     "654e48d47b444328be012f278f45c48c": {
      "model_module": "@jupyter-widgets/controls",
      "model_module_version": "1.4.0",
      "model_name": "HTMLModel",
      "state": {
       "layout": "IPY_MODEL_3601a30678f5426390d7e223332e62e8",
       "style": "IPY_MODEL_262ac5c6b57747d885d968fd10f23340",
       "value": "100% 63/63 [16:54&lt;00:00, 15.97s/it]"
      }
     },
     "65909083cda64279ae283415b38ca615": {
      "model_module": "@jupyter-widgets/controls",
      "model_module_version": "1.4.0",
      "model_name": "DescriptionStyleModel",
      "state": {
       "description_width": ""
      }
     },
     "65a798bcb9154e21905fcf768dd33e1b": {
      "model_module": "@jupyter-widgets/base",
      "model_module_version": "1.1.0",
      "model_name": "LayoutModel",
      "state": {}
     },
     "66b5fdde84a84983ad77dd39772b7483": {
      "model_module": "@jupyter-widgets/base",
      "model_module_version": "1.1.0",
      "model_name": "LayoutModel",
      "state": {}
     },
     "6726dc11a52049b5a3ed9b5975583a54": {
      "model_module": "@jupyter-widgets/controls",
      "model_module_version": "1.4.0",
      "model_name": "HTMLModel",
      "state": {
       "layout": "IPY_MODEL_5948644cd8034e6a962fbb1478b4f9b1",
       "style": "IPY_MODEL_9add1a3bc30f49bfa63d2d4c4c708d8d",
       "value": "100% 4/4 [00:12&lt;00:00,  3.01s/it]"
      }
     },
     "6780be37645c48a191053d99b6acb2a7": {
      "model_module": "@jupyter-widgets/base",
      "model_module_version": "1.1.0",
      "model_name": "LayoutModel",
      "state": {}
     },
     "6803b97c6f274531bdea77458d677b83": {
      "model_module": "@jupyter-widgets/controls",
      "model_module_version": "1.4.0",
      "model_name": "HTMLModel",
      "state": {
       "layout": "IPY_MODEL_42f54599108947d5a5a7de72fc952ec6",
       "style": "IPY_MODEL_1b20c21e9ee94c00b2692b9bb2c472f5",
       "value": "100% 6/6 [01:29&lt;00:00, 14.98s/it]"
      }
     },
     "68a548e6ae3b41e98fe7b67a9de78b51": {
      "model_module": "@jupyter-widgets/base",
      "model_module_version": "1.1.0",
      "model_name": "LayoutModel",
      "state": {}
     },
     "6937a5cc92394bb6a4a257ed4c3f588e": {
      "model_module": "@jupyter-widgets/base",
      "model_module_version": "1.1.0",
      "model_name": "LayoutModel",
      "state": {}
     },
     "69eb35081c784b1e9b879503135e6ce9": {
      "model_module": "@jupyter-widgets/base",
      "model_module_version": "1.1.0",
      "model_name": "LayoutModel",
      "state": {}
     },
     "6aea69313f8f4944b5b661c90cbb7722": {
      "model_module": "@jupyter-widgets/base",
      "model_module_version": "1.1.0",
      "model_name": "LayoutModel",
      "state": {}
     },
     "6c40d3f0487e4db0867e7c19e8f41dd2": {
      "model_module": "@jupyter-widgets/controls",
      "model_module_version": "1.4.0",
      "model_name": "HTMLModel",
      "state": {
       "layout": "IPY_MODEL_c3e57c06b82946b28e2ee34f4f4f6f9b",
       "style": "IPY_MODEL_4038e77f051f482b9e1d65031d49234b",
       "value": "100% 2/2 [00:33&lt;00:00, 16.80s/it]"
      }
     },
     "6d82a857c0174477b42107d30c8711ab": {
      "model_module": "@jupyter-widgets/base",
      "model_module_version": "1.1.0",
      "model_name": "LayoutModel",
      "state": {}
     },
     "6f1b3bc837eb4f86b664fa7674f6a995": {
      "model_module": "@jupyter-widgets/controls",
      "model_module_version": "1.4.0",
      "model_name": "IntProgressModel",
      "state": {
       "bar_style": "success",
       "description": "Epoch",
       "layout": "IPY_MODEL_93f2d44311464f1ab310dc9264787d0e",
       "max": 4,
       "style": "IPY_MODEL_454dbb97f78f420c9b9db324b2386116",
       "value": 4
      }
     },
     "6fb6e6b9bd7b40c095ab7f7c0866c2cf": {
      "model_module": "@jupyter-widgets/base",
      "model_module_version": "1.1.0",
      "model_name": "LayoutModel",
      "state": {}
     },
     "71f5de7566c842fc9a4a4ef0f151b287": {
      "model_module": "@jupyter-widgets/controls",
      "model_module_version": "1.4.0",
      "model_name": "HBoxModel",
      "state": {
       "children": [
        "IPY_MODEL_010642cebab14a6ea22a737f59dae0c8",
        "IPY_MODEL_7d13e55e2bfa4c82957a128938e0f97f"
       ],
       "layout": "IPY_MODEL_69eb35081c784b1e9b879503135e6ce9"
      }
     },
     "725782ff459a4575b249b27c2dccb7fb": {
      "model_module": "@jupyter-widgets/base",
      "model_module_version": "1.1.0",
      "model_name": "LayoutModel",
      "state": {}
     },
     "72c90f591b2e46bd8f732a6a49dda651": {
      "model_module": "@jupyter-widgets/controls",
      "model_module_version": "1.4.0",
      "model_name": "HBoxModel",
      "state": {
       "children": [
        "IPY_MODEL_f61934ab06fe4016a3fe5f383e5766e8",
        "IPY_MODEL_509156089f2441ceafc950dca99cd120"
       ],
       "layout": "IPY_MODEL_c79f4bcae2fc453babfa77c96f823086"
      }
     },
     "74211b53729141aeaec13de773d19e5b": {
      "model_module": "@jupyter-widgets/controls",
      "model_module_version": "1.4.0",
      "model_name": "IntProgressModel",
      "state": {
       "bar_style": "success",
       "description": "Epoch",
       "layout": "IPY_MODEL_fdf57fdeda2e44e88b17f2291b032a47",
       "max": 4,
       "style": "IPY_MODEL_b1d5d547d3fd4ea395b9436496b78694",
       "value": 4
      }
     },
     "74f274f2acb440e08f6c5424246f70cd": {
      "model_module": "@jupyter-widgets/controls",
      "model_module_version": "1.4.0",
      "model_name": "HBoxModel",
      "state": {
       "children": [
        "IPY_MODEL_5f869bee491f413aa03bfd46ca2f993b",
        "IPY_MODEL_bdf3a6aed3d441398d142f9064922924"
       ],
       "layout": "IPY_MODEL_2dc2e018516e446da09a6b5bf6900c7f"
      }
     },
     "7600a0fcb7d2457f8e1379a5bf14bb6b": {
      "model_module": "@jupyter-widgets/controls",
      "model_module_version": "1.4.0",
      "model_name": "DescriptionStyleModel",
      "state": {
       "description_width": ""
      }
     },
     "761a51e1dd9f41319c9e8165097e141d": {
      "model_module": "@jupyter-widgets/controls",
      "model_module_version": "1.4.0",
      "model_name": "HTMLModel",
      "state": {
       "layout": "IPY_MODEL_cca1cc3b0b7e4b209e99b03a0cb48f2f",
       "style": "IPY_MODEL_2d5d7e9822d94af78d6549f0f9647fd0",
       "value": "100% 1/1 [00:03&lt;00:00,  3.00s/it]"
      }
     },
     "777f40052e9142df927ec409c52890c5": {
      "model_module": "@jupyter-widgets/base",
      "model_module_version": "1.1.0",
      "model_name": "LayoutModel",
      "state": {}
     },
     "77eac5864903463fae97d8ecb59fca4c": {
      "model_module": "@jupyter-widgets/controls",
      "model_module_version": "1.4.0",
      "model_name": "HTMLModel",
      "state": {
       "layout": "IPY_MODEL_0973f9eea21d4c628d9c9d00c36a7d25",
       "style": "IPY_MODEL_a30cb35a531a4f8faab6f5cc7538921a",
       "value": "100% 4/4 [00:59&lt;00:00, 14.98s/it]"
      }
     },
     "79327d86c6ab43deb6dfef5caee0bd64": {
      "model_module": "@jupyter-widgets/controls",
      "model_module_version": "1.4.0",
      "model_name": "HTMLModel",
      "state": {
       "layout": "IPY_MODEL_a93f863d459f4dd5bcc33b23f1a218e0",
       "style": "IPY_MODEL_934590afc5e846548e6569946fe7d817",
       "value": "100% 4/4 [00:36&lt;00:00,  9.27s/it]"
      }
     },
     "7b0a2600d64e4671b6728a7e3ab346de": {
      "model_module": "@jupyter-widgets/controls",
      "model_module_version": "1.4.0",
      "model_name": "IntProgressModel",
      "state": {
       "bar_style": "success",
       "description": "Epoch",
       "layout": "IPY_MODEL_b1cd6ea592d3475a8c53bf1f2e186869",
       "max": 4,
       "style": "IPY_MODEL_a2996a97118d4bd9a09a6135f80dbbe6",
       "value": 4
      }
     },
     "7b8c6b915cb64bd082cd149890dc2a42": {
      "model_module": "@jupyter-widgets/controls",
      "model_module_version": "1.4.0",
      "model_name": "HTMLModel",
      "state": {
       "layout": "IPY_MODEL_19c8c09ca1c4402091d88b8b17fa3a2c",
       "style": "IPY_MODEL_065eabffb93f422e9aa81c206bf5ec16",
       "value": "100% 2/2 [00:32&lt;00:00, 16.38s/it]"
      }
     },
     "7bbf757fad294aba878f79252b247622": {
      "model_module": "@jupyter-widgets/base",
      "model_module_version": "1.1.0",
      "model_name": "LayoutModel",
      "state": {}
     },
     "7c465248dfdf494bae367908f847d030": {
      "model_module": "@jupyter-widgets/base",
      "model_module_version": "1.1.0",
      "model_name": "LayoutModel",
      "state": {}
     },
     "7cc84e37ffbb4eb09c408a7f20e1ad01": {
      "model_module": "@jupyter-widgets/base",
      "model_module_version": "1.1.0",
      "model_name": "LayoutModel",
      "state": {}
     },
     "7d13e55e2bfa4c82957a128938e0f97f": {
      "model_module": "@jupyter-widgets/controls",
      "model_module_version": "1.4.0",
      "model_name": "HTMLModel",
      "state": {
       "layout": "IPY_MODEL_b33f1d6928c84defad72c64d5e27f5f8",
       "style": "IPY_MODEL_2d84c6af49de40a3b85f28d954f65b06",
       "value": "100% 4/4 [00:08&lt;00:00,  2.03s/it]"
      }
     },
     "7e3337e818064ac8a59496a11fbdbef2": {
      "model_module": "@jupyter-widgets/base",
      "model_module_version": "1.1.0",
      "model_name": "LayoutModel",
      "state": {}
     },
     "7e90eabf45844df4b5d5818b2eca8131": {
      "model_module": "@jupyter-widgets/controls",
      "model_module_version": "1.4.0",
      "model_name": "HBoxModel",
      "state": {
       "children": [
        "IPY_MODEL_119fdbfd99754d19872695cff5c19840",
        "IPY_MODEL_bae7f340276f419e928a79ea650ec82b"
       ],
       "layout": "IPY_MODEL_7cc84e37ffbb4eb09c408a7f20e1ad01"
      }
     },
     "7f43ed7175e24798bc364848cb4e09e9": {
      "model_module": "@jupyter-widgets/controls",
      "model_module_version": "1.4.0",
      "model_name": "HTMLModel",
      "state": {
       "layout": "IPY_MODEL_06a9b7a2c37b42029ea25a23eb6461b6",
       "style": "IPY_MODEL_99d3c49ca7bf42f1b1b131fe72b9029c",
       "value": "100% 1/1 [00:03&lt;00:00,  3.14s/it]"
      }
     },
     "804ddcb3a1ca4aa092b53dc90a32b533": {
      "model_module": "@jupyter-widgets/controls",
      "model_module_version": "1.4.0",
      "model_name": "HBoxModel",
      "state": {
       "children": [
        "IPY_MODEL_6f1b3bc837eb4f86b664fa7674f6a995",
        "IPY_MODEL_202401b24ae64c18a0f4b8ce23b9067d"
       ],
       "layout": "IPY_MODEL_eb4aec9977984bfb80036358b882e4d0"
      }
     },
     "81b22d31dd9243c4a8fdcf8532b7f052": {
      "model_module": "@jupyter-widgets/controls",
      "model_module_version": "1.4.0",
      "model_name": "HTMLModel",
      "state": {
       "layout": "IPY_MODEL_db61eea52b2d40eb9b1cd89cc70071ac",
       "style": "IPY_MODEL_d9ae8e2893a449bcbd8ea562ed47c2b6",
       "value": "100% 15/15 [04:05&lt;00:00, 16.45s/it]"
      }
     },
     "84289d3fb1744357b10f181dd3264d50": {
      "model_module": "@jupyter-widgets/base",
      "model_module_version": "1.1.0",
      "model_name": "LayoutModel",
      "state": {}
     },
     "845129090aca4b23acf6355eeb21db09": {
      "model_module": "@jupyter-widgets/base",
      "model_module_version": "1.1.0",
      "model_name": "LayoutModel",
      "state": {}
     },
     "8ab4a7b64912436dadbc24455738ac8e": {
      "model_module": "@jupyter-widgets/controls",
      "model_module_version": "1.4.0",
      "model_name": "HBoxModel",
      "state": {
       "children": [
        "IPY_MODEL_2bd75c88cca94d519cbcff1bbeb34363",
        "IPY_MODEL_81b22d31dd9243c4a8fdcf8532b7f052"
       ],
       "layout": "IPY_MODEL_e2f5558dbf4c48938db3b63722408c2e"
      }
     },
     "8ac27d8a9b4b4344b07717f4a611688d": {
      "model_module": "@jupyter-widgets/controls",
      "model_module_version": "1.4.0",
      "model_name": "DescriptionStyleModel",
      "state": {
       "description_width": ""
      }
     },
     "8b1f8d057ed14ec6aadc8e0e90758cd0": {
      "model_module": "@jupyter-widgets/controls",
      "model_module_version": "1.4.0",
      "model_name": "DescriptionStyleModel",
      "state": {
       "description_width": ""
      }
     },
     "8f7aa89e3768463489331d1edb720e37": {
      "model_module": "@jupyter-widgets/base",
      "model_module_version": "1.1.0",
      "model_name": "LayoutModel",
      "state": {}
     },
     "905cf47601fd4f5a9fbb9767a22451d7": {
      "model_module": "@jupyter-widgets/controls",
      "model_module_version": "1.4.0",
      "model_name": "HTMLModel",
      "state": {
       "layout": "IPY_MODEL_bb703cb27eda48148b45162127ef7e48",
       "style": "IPY_MODEL_65909083cda64279ae283415b38ca615",
       "value": "100% 4/4 [00:56&lt;00:00, 14.17s/it]"
      }
     },
     "91b1e272528f4e4e848dfb073b0b89ce": {
      "model_module": "@jupyter-widgets/controls",
      "model_module_version": "1.4.0",
      "model_name": "HTMLModel",
      "state": {
       "layout": "IPY_MODEL_a30c3ecc96a84306aca596fb33650daf",
       "style": "IPY_MODEL_b593de2827534d75a9d44beae869541a",
       "value": "100% 1/1 [00:05&lt;00:00,  5.46s/it]"
      }
     },
     "91d1a4531932435bbab0f2ddfc202c74": {
      "model_module": "@jupyter-widgets/controls",
      "model_module_version": "1.4.0",
      "model_name": "IntProgressModel",
      "state": {
       "bar_style": "success",
       "description": "Epoch",
       "layout": "IPY_MODEL_9e5ed9082c9b4b6c883794609dba88f2",
       "max": 1,
       "style": "IPY_MODEL_4faeeda53ad24bfaae9ba6425579202a",
       "value": 1
      }
     },
     "92cbb055bd284be69d6f087b83bec958": {
      "model_module": "@jupyter-widgets/controls",
      "model_module_version": "1.4.0",
      "model_name": "ProgressStyleModel",
      "state": {
       "description_width": "initial"
      }
     },
     "934590afc5e846548e6569946fe7d817": {
      "model_module": "@jupyter-widgets/controls",
      "model_module_version": "1.4.0",
      "model_name": "DescriptionStyleModel",
      "state": {
       "description_width": ""
      }
     },
     "93ab4a70c82b4ae68e4ea2be27758867": {
      "model_module": "@jupyter-widgets/controls",
      "model_module_version": "1.4.0",
      "model_name": "HBoxModel",
      "state": {
       "children": [
        "IPY_MODEL_e44236d3ccf54068898fab77c26750e1",
        "IPY_MODEL_79327d86c6ab43deb6dfef5caee0bd64"
       ],
       "layout": "IPY_MODEL_d3d59be26ed64c6fa16ce1aca27106a2"
      }
     },
     "93f2d44311464f1ab310dc9264787d0e": {
      "model_module": "@jupyter-widgets/base",
      "model_module_version": "1.1.0",
      "model_name": "LayoutModel",
      "state": {}
     },
     "95468dbf7030435b91e30ca734e2a9c0": {
      "model_module": "@jupyter-widgets/controls",
      "model_module_version": "1.4.0",
      "model_name": "HBoxModel",
      "state": {
       "children": [
        "IPY_MODEL_1172db03591f4ad8aa18a9d4d20b8b36",
        "IPY_MODEL_7b8c6b915cb64bd082cd149890dc2a42"
       ],
       "layout": "IPY_MODEL_17c2c4067331457c9ec77e1d4b395822"
      }
     },
     "97fee5b0ce59478ca728e3268ad5eb80": {
      "model_module": "@jupyter-widgets/controls",
      "model_module_version": "1.4.0",
      "model_name": "IntProgressModel",
      "state": {
       "bar_style": "success",
       "description": "Epoch",
       "layout": "IPY_MODEL_bb141c930b074d17914d97e71f7c38c9",
       "max": 2,
       "style": "IPY_MODEL_c4bdb983ebe349f09c5c453f3f231c7f",
       "value": 2
      }
     },
     "98126d1093ea4747b1c5dd559887d615": {
      "model_module": "@jupyter-widgets/controls",
      "model_module_version": "1.4.0",
      "model_name": "HTMLModel",
      "state": {
       "layout": "IPY_MODEL_777f40052e9142df927ec409c52890c5",
       "style": "IPY_MODEL_e9adf53b103d4671970d1de6ac6c8480",
       "value": "100% 1/1 [00:00&lt;00:00,  1.74it/s]"
      }
     },
     "98ca8f0e098d494bab46dbc44c44b004": {
      "model_module": "@jupyter-widgets/controls",
      "model_module_version": "1.4.0",
      "model_name": "IntProgressModel",
      "state": {
       "bar_style": "success",
       "description": "Epoch",
       "layout": "IPY_MODEL_9f3beba00b6b4637bfa1c3254f9ac7b6",
       "max": 4,
       "style": "IPY_MODEL_4487615104d142a281a1cfd4f15557b0",
       "value": 4
      }
     },
     "98ec086021d942ecb60f326d106d0695": {
      "model_module": "@jupyter-widgets/controls",
      "model_module_version": "1.4.0",
      "model_name": "IntProgressModel",
      "state": {
       "bar_style": "success",
       "description": "Epoch",
       "layout": "IPY_MODEL_2f0791b49ebb4ef8ad247ffd530e4ccc",
       "max": 63,
       "style": "IPY_MODEL_4cfdc728ac1d49088ed7d2be66c085f4",
       "value": 63
      }
     },
     "99d3c49ca7bf42f1b1b131fe72b9029c": {
      "model_module": "@jupyter-widgets/controls",
      "model_module_version": "1.4.0",
      "model_name": "DescriptionStyleModel",
      "state": {
       "description_width": ""
      }
     },
     "9add1a3bc30f49bfa63d2d4c4c708d8d": {
      "model_module": "@jupyter-widgets/controls",
      "model_module_version": "1.4.0",
      "model_name": "DescriptionStyleModel",
      "state": {
       "description_width": ""
      }
     },
     "9b363eda8e1246caa062b795ce505fe4": {
      "model_module": "@jupyter-widgets/base",
      "model_module_version": "1.1.0",
      "model_name": "LayoutModel",
      "state": {}
     },
     "9b9b8490bf154360a77326cc93ba3ca7": {
      "model_module": "@jupyter-widgets/controls",
      "model_module_version": "1.4.0",
      "model_name": "HTMLModel",
      "state": {
       "layout": "IPY_MODEL_cf6927b898c74f759bf35bb468103569",
       "style": "IPY_MODEL_5c27df6e6d664527a161963d2cf90c45",
       "value": "100% 3/3 [00:41&lt;00:00, 13.88s/it]"
      }
     },
     "9bdbb6ad63ee4d1f9c63fad00ac3af1d": {
      "model_module": "@jupyter-widgets/controls",
      "model_module_version": "1.4.0",
      "model_name": "IntProgressModel",
      "state": {
       "bar_style": "success",
       "description": "Epoch",
       "layout": "IPY_MODEL_074cbb20a152430a86a7d8910349e484",
       "max": 1,
       "style": "IPY_MODEL_3876be8a0a214475b726228bc89230be",
       "value": 1
      }
     },
     "9e5ed9082c9b4b6c883794609dba88f2": {
      "model_module": "@jupyter-widgets/base",
      "model_module_version": "1.1.0",
      "model_name": "LayoutModel",
      "state": {}
     },
     "9f3beba00b6b4637bfa1c3254f9ac7b6": {
      "model_module": "@jupyter-widgets/base",
      "model_module_version": "1.1.0",
      "model_name": "LayoutModel",
      "state": {}
     },
     "9fe3df13885349c2ac417395374d84ec": {
      "model_module": "@jupyter-widgets/controls",
      "model_module_version": "1.4.0",
      "model_name": "IntProgressModel",
      "state": {
       "bar_style": "success",
       "description": "Epoch",
       "layout": "IPY_MODEL_9b363eda8e1246caa062b795ce505fe4",
       "max": 1,
       "style": "IPY_MODEL_d5201dbe393149ef85fb7f5a754603d7",
       "value": 1
      }
     },
     "a08d8cde093a459092842d0555dac214": {
      "model_module": "@jupyter-widgets/controls",
      "model_module_version": "1.4.0",
      "model_name": "IntProgressModel",
      "state": {
       "bar_style": "success",
       "description": "Epoch",
       "layout": "IPY_MODEL_caa800cf4e654b0398dbd56e63707551",
       "max": 4,
       "style": "IPY_MODEL_f246c43d6069439caf1f21276618a435",
       "value": 4
      }
     },
     "a2996a97118d4bd9a09a6135f80dbbe6": {
      "model_module": "@jupyter-widgets/controls",
      "model_module_version": "1.4.0",
      "model_name": "ProgressStyleModel",
      "state": {
       "description_width": "initial"
      }
     },
     "a30c3ecc96a84306aca596fb33650daf": {
      "model_module": "@jupyter-widgets/base",
      "model_module_version": "1.1.0",
      "model_name": "LayoutModel",
      "state": {}
     },
     "a30cb35a531a4f8faab6f5cc7538921a": {
      "model_module": "@jupyter-widgets/controls",
      "model_module_version": "1.4.0",
      "model_name": "DescriptionStyleModel",
      "state": {
       "description_width": ""
      }
     },
     "a42f524119b94db2ac68c9bd282e52aa": {
      "model_module": "@jupyter-widgets/controls",
      "model_module_version": "1.4.0",
      "model_name": "DescriptionStyleModel",
      "state": {
       "description_width": ""
      }
     },
     "a44a291fc5cc4ae08ec9b424146b40fb": {
      "model_module": "@jupyter-widgets/base",
      "model_module_version": "1.1.0",
      "model_name": "LayoutModel",
      "state": {}
     },
     "a6171bf1ccfa42d2b5d067c4ae5a285a": {
      "model_module": "@jupyter-widgets/controls",
      "model_module_version": "1.4.0",
      "model_name": "HTMLModel",
      "state": {
       "layout": "IPY_MODEL_d15ef99aef294f27a4dd4006d0cf7778",
       "style": "IPY_MODEL_5e5c03c3064843d8abe115cd2768fc0e",
       "value": "100% 4/4 [00:35&lt;00:00,  8.87s/it]"
      }
     },
     "a7dd5817adae4c509d6300efa7255b0b": {
      "model_module": "@jupyter-widgets/base",
      "model_module_version": "1.1.0",
      "model_name": "LayoutModel",
      "state": {}
     },
     "a93f863d459f4dd5bcc33b23f1a218e0": {
      "model_module": "@jupyter-widgets/base",
      "model_module_version": "1.1.0",
      "model_name": "LayoutModel",
      "state": {}
     },
     "ab9886550a774f9ea16ed063a1d3aca7": {
      "model_module": "@jupyter-widgets/controls",
      "model_module_version": "1.4.0",
      "model_name": "HBoxModel",
      "state": {
       "children": [
        "IPY_MODEL_15e5671cd9bb467586c7fca3d074b0d5",
        "IPY_MODEL_37d57f53bfcb4d2bb43a88476422c3f1"
       ],
       "layout": "IPY_MODEL_ede50b27afd64b47927bf9a41af3e3d7"
      }
     },
     "abdd973679c141da81685e6cf4f82810": {
      "model_module": "@jupyter-widgets/base",
      "model_module_version": "1.1.0",
      "model_name": "LayoutModel",
      "state": {}
     },
     "ad8fb9c8373342dc8fb45c05ad3a763b": {
      "model_module": "@jupyter-widgets/base",
      "model_module_version": "1.1.0",
      "model_name": "LayoutModel",
      "state": {}
     },
     "ae5920164203410ab7b4b80dacfc8241": {
      "model_module": "@jupyter-widgets/controls",
      "model_module_version": "1.4.0",
      "model_name": "DescriptionStyleModel",
      "state": {
       "description_width": ""
      }
     },
     "b045f1a34a6343ba94bb4374d1dd3fea": {
      "model_module": "@jupyter-widgets/controls",
      "model_module_version": "1.4.0",
      "model_name": "ProgressStyleModel",
      "state": {
       "description_width": "initial"
      }
     },
     "b11d6f1bbbf948f9a69ab102b6fa4476": {
      "model_module": "@jupyter-widgets/controls",
      "model_module_version": "1.4.0",
      "model_name": "IntProgressModel",
      "state": {
       "bar_style": "success",
       "description": "Epoch",
       "layout": "IPY_MODEL_483d864c9fe848f2b32191cca2126ec9",
       "max": 1,
       "style": "IPY_MODEL_b40b5bd27b23457b8d912f931174fe0b",
       "value": 1
      }
     },
     "b1cd6ea592d3475a8c53bf1f2e186869": {
      "model_module": "@jupyter-widgets/base",
      "model_module_version": "1.1.0",
      "model_name": "LayoutModel",
      "state": {}
     },
     "b1d5d547d3fd4ea395b9436496b78694": {
      "model_module": "@jupyter-widgets/controls",
      "model_module_version": "1.4.0",
      "model_name": "ProgressStyleModel",
      "state": {
       "description_width": "initial"
      }
     },
     "b33f1d6928c84defad72c64d5e27f5f8": {
      "model_module": "@jupyter-widgets/base",
      "model_module_version": "1.1.0",
      "model_name": "LayoutModel",
      "state": {}
     },
     "b40b5bd27b23457b8d912f931174fe0b": {
      "model_module": "@jupyter-widgets/controls",
      "model_module_version": "1.4.0",
      "model_name": "ProgressStyleModel",
      "state": {
       "description_width": "initial"
      }
     },
     "b436352eef7244e6bb4ae196b03ff9da": {
      "model_module": "@jupyter-widgets/base",
      "model_module_version": "1.1.0",
      "model_name": "LayoutModel",
      "state": {}
     },
     "b58f1bb7b93344a6a666f042a3c1a192": {
      "model_module": "@jupyter-widgets/base",
      "model_module_version": "1.1.0",
      "model_name": "LayoutModel",
      "state": {}
     },
     "b593de2827534d75a9d44beae869541a": {
      "model_module": "@jupyter-widgets/controls",
      "model_module_version": "1.4.0",
      "model_name": "DescriptionStyleModel",
      "state": {
       "description_width": ""
      }
     },
     "b9113c2460ad45a882c29bd67cb4b133": {
      "model_module": "@jupyter-widgets/base",
      "model_module_version": "1.1.0",
      "model_name": "LayoutModel",
      "state": {}
     },
     "bae7f340276f419e928a79ea650ec82b": {
      "model_module": "@jupyter-widgets/controls",
      "model_module_version": "1.4.0",
      "model_name": "HTMLModel",
      "state": {
       "layout": "IPY_MODEL_a7dd5817adae4c509d6300efa7255b0b",
       "style": "IPY_MODEL_e0645d94d87240be844330cd19d44bc1",
       "value": "100% 3/3 [00:44&lt;00:00, 14.92s/it]"
      }
     },
     "baf8050c920340fdbd77d0947fd0a887": {
      "model_module": "@jupyter-widgets/base",
      "model_module_version": "1.1.0",
      "model_name": "LayoutModel",
      "state": {}
     },
     "bb141c930b074d17914d97e71f7c38c9": {
      "model_module": "@jupyter-widgets/base",
      "model_module_version": "1.1.0",
      "model_name": "LayoutModel",
      "state": {}
     },
     "bb703cb27eda48148b45162127ef7e48": {
      "model_module": "@jupyter-widgets/base",
      "model_module_version": "1.1.0",
      "model_name": "LayoutModel",
      "state": {}
     },
     "bdb8ca264f6a4e569b049012d1f13359": {
      "model_module": "@jupyter-widgets/base",
      "model_module_version": "1.1.0",
      "model_name": "LayoutModel",
      "state": {}
     },
     "bdbfca813aad46a4b7e798e0623aed91": {
      "model_module": "@jupyter-widgets/controls",
      "model_module_version": "1.4.0",
      "model_name": "ProgressStyleModel",
      "state": {
       "description_width": "initial"
      }
     },
     "bdca27c766c6408a85bb0a78746937f2": {
      "model_module": "@jupyter-widgets/controls",
      "model_module_version": "1.4.0",
      "model_name": "HBoxModel",
      "state": {
       "children": [
        "IPY_MODEL_98ec086021d942ecb60f326d106d0695",
        "IPY_MODEL_654e48d47b444328be012f278f45c48c"
       ],
       "layout": "IPY_MODEL_6d82a857c0174477b42107d30c8711ab"
      }
     },
     "bdf3a6aed3d441398d142f9064922924": {
      "model_module": "@jupyter-widgets/controls",
      "model_module_version": "1.4.0",
      "model_name": "HTMLModel",
      "state": {
       "layout": "IPY_MODEL_ad8fb9c8373342dc8fb45c05ad3a763b",
       "style": "IPY_MODEL_cc28e86fab9e482783716d1cbd8a355f",
       "value": "100% 6/6 [01:24&lt;00:00, 14.03s/it]"
      }
     },
     "be2c268a269b4e7db3bbba357ce4e73d": {
      "model_module": "@jupyter-widgets/controls",
      "model_module_version": "1.4.0",
      "model_name": "HBoxModel",
      "state": {
       "children": [
        "IPY_MODEL_c9d7fbd6f7d64e94abf0b06fa9c58f3c",
        "IPY_MODEL_905cf47601fd4f5a9fbb9767a22451d7"
       ],
       "layout": "IPY_MODEL_16d1f53be81c40f4ba47ed579348ed4a"
      }
     },
     "c2a51c44cc8f43f8b247419dab38ed45": {
      "model_module": "@jupyter-widgets/base",
      "model_module_version": "1.1.0",
      "model_name": "LayoutModel",
      "state": {}
     },
     "c3e57c06b82946b28e2ee34f4f4f6f9b": {
      "model_module": "@jupyter-widgets/base",
      "model_module_version": "1.1.0",
      "model_name": "LayoutModel",
      "state": {}
     },
     "c4bdb983ebe349f09c5c453f3f231c7f": {
      "model_module": "@jupyter-widgets/controls",
      "model_module_version": "1.4.0",
      "model_name": "ProgressStyleModel",
      "state": {
       "description_width": "initial"
      }
     },
     "c4e777afc1084ed999fbad1260aeec23": {
      "model_module": "@jupyter-widgets/controls",
      "model_module_version": "1.4.0",
      "model_name": "ProgressStyleModel",
      "state": {
       "description_width": "initial"
      }
     },
     "c6165f0be83945ddaa571ff45a189f5e": {
      "model_module": "@jupyter-widgets/controls",
      "model_module_version": "1.4.0",
      "model_name": "HBoxModel",
      "state": {
       "children": [
        "IPY_MODEL_320b58be2f4c46d4aebb2f01df3ce71d",
        "IPY_MODEL_cb3c96e028ac4705b79102481d4e5428"
       ],
       "layout": "IPY_MODEL_228f114fe65649ff8152b328575dab7c"
      }
     },
     "c79f4bcae2fc453babfa77c96f823086": {
      "model_module": "@jupyter-widgets/base",
      "model_module_version": "1.1.0",
      "model_name": "LayoutModel",
      "state": {}
     },
     "c9d7fbd6f7d64e94abf0b06fa9c58f3c": {
      "model_module": "@jupyter-widgets/controls",
      "model_module_version": "1.4.0",
      "model_name": "IntProgressModel",
      "state": {
       "bar_style": "success",
       "description": "Epoch",
       "layout": "IPY_MODEL_5703adad55a44d9db2079162973b1524",
       "max": 4,
       "style": "IPY_MODEL_bdbfca813aad46a4b7e798e0623aed91",
       "value": 4
      }
     },
     "ca7b61d2d03a43a7a63c2689f80184f1": {
      "model_module": "@jupyter-widgets/controls",
      "model_module_version": "1.4.0",
      "model_name": "HTMLModel",
      "state": {
       "layout": "IPY_MODEL_68a548e6ae3b41e98fe7b67a9de78b51",
       "style": "IPY_MODEL_8ac27d8a9b4b4344b07717f4a611688d",
       "value": "100% 2/2 [00:48&lt;00:00, 23.96s/it]"
      }
     },
     "caa800cf4e654b0398dbd56e63707551": {
      "model_module": "@jupyter-widgets/base",
      "model_module_version": "1.1.0",
      "model_name": "LayoutModel",
      "state": {}
     },
     "cb3c96e028ac4705b79102481d4e5428": {
      "model_module": "@jupyter-widgets/controls",
      "model_module_version": "1.4.0",
      "model_name": "HTMLModel",
      "state": {
       "layout": "IPY_MODEL_ee9ddec097d84ff49f4c56bd6f99adf3",
       "style": "IPY_MODEL_7600a0fcb7d2457f8e1379a5bf14bb6b",
       "value": "100% 2/2 [00:04&lt;00:00,  2.03s/it]"
      }
     },
     "cbc2dcdee8bf439bac3995c1f6688d5f": {
      "model_module": "@jupyter-widgets/controls",
      "model_module_version": "1.4.0",
      "model_name": "ProgressStyleModel",
      "state": {
       "description_width": "initial"
      }
     },
     "cc28e86fab9e482783716d1cbd8a355f": {
      "model_module": "@jupyter-widgets/controls",
      "model_module_version": "1.4.0",
      "model_name": "DescriptionStyleModel",
      "state": {
       "description_width": ""
      }
     },
     "cca1cc3b0b7e4b209e99b03a0cb48f2f": {
      "model_module": "@jupyter-widgets/base",
      "model_module_version": "1.1.0",
      "model_name": "LayoutModel",
      "state": {}
     },
     "cd54779644c74c52801bf493b34eede6": {
      "model_module": "@jupyter-widgets/controls",
      "model_module_version": "1.4.0",
      "model_name": "HTMLModel",
      "state": {
       "layout": "IPY_MODEL_23ace51d174c43e9966ba56a339b04de",
       "style": "IPY_MODEL_8b1f8d057ed14ec6aadc8e0e90758cd0",
       "value": "100% 1/1 [00:02&lt;00:00,  2.44s/it]"
      }
     },
     "cda7d7da25ff430c92db78add77ab6ea": {
      "model_module": "@jupyter-widgets/controls",
      "model_module_version": "1.4.0",
      "model_name": "DescriptionStyleModel",
      "state": {
       "description_width": ""
      }
     },
     "cf6927b898c74f759bf35bb468103569": {
      "model_module": "@jupyter-widgets/base",
      "model_module_version": "1.1.0",
      "model_name": "LayoutModel",
      "state": {}
     },
     "d120fcb5ed9d4e75bfec8ed103e38239": {
      "model_module": "@jupyter-widgets/controls",
      "model_module_version": "1.4.0",
      "model_name": "DescriptionStyleModel",
      "state": {
       "description_width": ""
      }
     },
     "d156e27e9188490f99a28d5e4fa0b8de": {
      "model_module": "@jupyter-widgets/controls",
      "model_module_version": "1.4.0",
      "model_name": "HTMLModel",
      "state": {
       "layout": "IPY_MODEL_49d3dc1531fe4237b1929141bb0841d9",
       "style": "IPY_MODEL_ae5920164203410ab7b4b80dacfc8241",
       "value": "100% 15/15 [04:00&lt;00:00, 15.98s/it]"
      }
     },
     "d15ef99aef294f27a4dd4006d0cf7778": {
      "model_module": "@jupyter-widgets/base",
      "model_module_version": "1.1.0",
      "model_name": "LayoutModel",
      "state": {}
     },
     "d3d59be26ed64c6fa16ce1aca27106a2": {
      "model_module": "@jupyter-widgets/base",
      "model_module_version": "1.1.0",
      "model_name": "LayoutModel",
      "state": {}
     },
     "d3e3aeba677f4b2597ae2c3c4f0b8388": {
      "model_module": "@jupyter-widgets/controls",
      "model_module_version": "1.4.0",
      "model_name": "HBoxModel",
      "state": {
       "children": [
        "IPY_MODEL_97fee5b0ce59478ca728e3268ad5eb80",
        "IPY_MODEL_ca7b61d2d03a43a7a63c2689f80184f1"
       ],
       "layout": "IPY_MODEL_d59e2e2fd30e429988213e7d5163f76d"
      }
     },
     "d5201dbe393149ef85fb7f5a754603d7": {
      "model_module": "@jupyter-widgets/controls",
      "model_module_version": "1.4.0",
      "model_name": "ProgressStyleModel",
      "state": {
       "description_width": "initial"
      }
     },
     "d59e2e2fd30e429988213e7d5163f76d": {
      "model_module": "@jupyter-widgets/base",
      "model_module_version": "1.1.0",
      "model_name": "LayoutModel",
      "state": {}
     },
     "d7bd7ce38ae4496da86ac8a63f8e9823": {
      "model_module": "@jupyter-widgets/controls",
      "model_module_version": "1.4.0",
      "model_name": "DescriptionStyleModel",
      "state": {
       "description_width": ""
      }
     },
     "d88106e72bff415f9231fa2e0c429cc1": {
      "model_module": "@jupyter-widgets/controls",
      "model_module_version": "1.4.0",
      "model_name": "HBoxModel",
      "state": {
       "children": [
        "IPY_MODEL_9fe3df13885349c2ac417395374d84ec",
        "IPY_MODEL_7f43ed7175e24798bc364848cb4e09e9"
       ],
       "layout": "IPY_MODEL_8f7aa89e3768463489331d1edb720e37"
      }
     },
     "d8b57008c305453a82138e802c619d6f": {
      "model_module": "@jupyter-widgets/controls",
      "model_module_version": "1.4.0",
      "model_name": "ProgressStyleModel",
      "state": {
       "description_width": "initial"
      }
     },
     "d9ae8e2893a449bcbd8ea562ed47c2b6": {
      "model_module": "@jupyter-widgets/controls",
      "model_module_version": "1.4.0",
      "model_name": "DescriptionStyleModel",
      "state": {
       "description_width": ""
      }
     },
     "db61eea52b2d40eb9b1cd89cc70071ac": {
      "model_module": "@jupyter-widgets/base",
      "model_module_version": "1.1.0",
      "model_name": "LayoutModel",
      "state": {}
     },
     "dbdfb7cf51714f86aea87ff5d7196155": {
      "model_module": "@jupyter-widgets/base",
      "model_module_version": "1.1.0",
      "model_name": "LayoutModel",
      "state": {}
     },
     "dc14e5fb6a064143a6a514f2fca5f3e2": {
      "model_module": "@jupyter-widgets/base",
      "model_module_version": "1.1.0",
      "model_name": "LayoutModel",
      "state": {}
     },
     "dd79c21a540841db89188641eb6e7b62": {
      "model_module": "@jupyter-widgets/controls",
      "model_module_version": "1.4.0",
      "model_name": "HTMLModel",
      "state": {
       "layout": "IPY_MODEL_65a798bcb9154e21905fcf768dd33e1b",
       "style": "IPY_MODEL_5affc8b27f37404e95d4106a0354ee64",
       "value": "100% 1/1 [00:27&lt;00:00, 27.76s/it]"
      }
     },
     "e0645d94d87240be844330cd19d44bc1": {
      "model_module": "@jupyter-widgets/controls",
      "model_module_version": "1.4.0",
      "model_name": "DescriptionStyleModel",
      "state": {
       "description_width": ""
      }
     },
     "e2f5558dbf4c48938db3b63722408c2e": {
      "model_module": "@jupyter-widgets/base",
      "model_module_version": "1.1.0",
      "model_name": "LayoutModel",
      "state": {}
     },
     "e367cc3b186d4dfb85c8f0dfd7ca20c9": {
      "model_module": "@jupyter-widgets/controls",
      "model_module_version": "1.4.0",
      "model_name": "DescriptionStyleModel",
      "state": {
       "description_width": ""
      }
     },
     "e44236d3ccf54068898fab77c26750e1": {
      "model_module": "@jupyter-widgets/controls",
      "model_module_version": "1.4.0",
      "model_name": "IntProgressModel",
      "state": {
       "bar_style": "success",
       "description": "Epoch",
       "layout": "IPY_MODEL_233f19bae40b448b991fd040468c9546",
       "max": 4,
       "style": "IPY_MODEL_c4e777afc1084ed999fbad1260aeec23",
       "value": 4
      }
     },
     "e50873a2622747b6afdb74e0eb38e7c6": {
      "model_module": "@jupyter-widgets/controls",
      "model_module_version": "1.4.0",
      "model_name": "HBoxModel",
      "state": {
       "children": [
        "IPY_MODEL_41b7da23fcd44c1eaf0338e01912d91d",
        "IPY_MODEL_6803b97c6f274531bdea77458d677b83"
       ],
       "layout": "IPY_MODEL_a44a291fc5cc4ae08ec9b424146b40fb"
      }
     },
     "e8cb8adfb1b049bf9a168aee08f3ac74": {
      "model_module": "@jupyter-widgets/base",
      "model_module_version": "1.1.0",
      "model_name": "LayoutModel",
      "state": {}
     },
     "e8efdd4ca4b644eab3ede11fbaae19f4": {
      "model_module": "@jupyter-widgets/controls",
      "model_module_version": "1.4.0",
      "model_name": "HBoxModel",
      "state": {
       "children": [
        "IPY_MODEL_91d1a4531932435bbab0f2ddfc202c74",
        "IPY_MODEL_dd79c21a540841db89188641eb6e7b62"
       ],
       "layout": "IPY_MODEL_e8cb8adfb1b049bf9a168aee08f3ac74"
      }
     },
     "e9adf53b103d4671970d1de6ac6c8480": {
      "model_module": "@jupyter-widgets/controls",
      "model_module_version": "1.4.0",
      "model_name": "DescriptionStyleModel",
      "state": {
       "description_width": ""
      }
     },
     "eb4aec9977984bfb80036358b882e4d0": {
      "model_module": "@jupyter-widgets/base",
      "model_module_version": "1.1.0",
      "model_name": "LayoutModel",
      "state": {}
     },
     "ec08b450edb54115b149802bcf043ed7": {
      "model_module": "@jupyter-widgets/controls",
      "model_module_version": "1.4.0",
      "model_name": "ProgressStyleModel",
      "state": {
       "description_width": "initial"
      }
     },
     "ede50b27afd64b47927bf9a41af3e3d7": {
      "model_module": "@jupyter-widgets/base",
      "model_module_version": "1.1.0",
      "model_name": "LayoutModel",
      "state": {}
     },
     "ee179971d13247aca7e60675c600ccad": {
      "model_module": "@jupyter-widgets/base",
      "model_module_version": "1.1.0",
      "model_name": "LayoutModel",
      "state": {}
     },
     "ee9ddec097d84ff49f4c56bd6f99adf3": {
      "model_module": "@jupyter-widgets/base",
      "model_module_version": "1.1.0",
      "model_name": "LayoutModel",
      "state": {}
     },
     "eebf4cde87f944bb906e6687fc289138": {
      "model_module": "@jupyter-widgets/controls",
      "model_module_version": "1.4.0",
      "model_name": "HBoxModel",
      "state": {
       "children": [
        "IPY_MODEL_607a8bb4480245f09670a9b92f9b151c",
        "IPY_MODEL_d156e27e9188490f99a28d5e4fa0b8de"
       ],
       "layout": "IPY_MODEL_3166f9ab1dcc4e1d99efa61efdba7965"
      }
     },
     "efba64bd30ec4fb1a89e675fc97f1283": {
      "model_module": "@jupyter-widgets/base",
      "model_module_version": "1.1.0",
      "model_name": "LayoutModel",
      "state": {}
     },
     "f12abf64b1564bd09876a1f4056e6bca": {
      "model_module": "@jupyter-widgets/base",
      "model_module_version": "1.1.0",
      "model_name": "LayoutModel",
      "state": {}
     },
     "f17ab4608a0749a1b503e56460909dd9": {
      "model_module": "@jupyter-widgets/controls",
      "model_module_version": "1.4.0",
      "model_name": "HBoxModel",
      "state": {
       "children": [
        "IPY_MODEL_1d8fd2d153f54a39b376a7102e78c7a1",
        "IPY_MODEL_98126d1093ea4747b1c5dd559887d615"
       ],
       "layout": "IPY_MODEL_42a8e112cc2e450aa461322c14277f74"
      }
     },
     "f246c43d6069439caf1f21276618a435": {
      "model_module": "@jupyter-widgets/controls",
      "model_module_version": "1.4.0",
      "model_name": "ProgressStyleModel",
      "state": {
       "description_width": "initial"
      }
     },
     "f378a1c54443462b9ade6aa1fa596ff4": {
      "model_module": "@jupyter-widgets/base",
      "model_module_version": "1.1.0",
      "model_name": "LayoutModel",
      "state": {}
     },
     "f43c16a818864af1b2883b10250f36bc": {
      "model_module": "@jupyter-widgets/controls",
      "model_module_version": "1.4.0",
      "model_name": "HBoxModel",
      "state": {
       "children": [
        "IPY_MODEL_74211b53729141aeaec13de773d19e5b",
        "IPY_MODEL_77eac5864903463fae97d8ecb59fca4c"
       ],
       "layout": "IPY_MODEL_6fb6e6b9bd7b40c095ab7f7c0866c2cf"
      }
     },
     "f4e6d3d35c1444e995d6dd64b7904aaa": {
      "model_module": "@jupyter-widgets/controls",
      "model_module_version": "1.4.0",
      "model_name": "IntProgressModel",
      "state": {
       "bar_style": "success",
       "description": "Epoch",
       "layout": "IPY_MODEL_6937a5cc92394bb6a4a257ed4c3f588e",
       "max": 2,
       "style": "IPY_MODEL_1d9130b5e54e4748a3b0222ea99430f1",
       "value": 2
      }
     },
     "f61934ab06fe4016a3fe5f383e5766e8": {
      "model_module": "@jupyter-widgets/controls",
      "model_module_version": "1.4.0",
      "model_name": "IntProgressModel",
      "state": {
       "bar_style": "success",
       "description": "Epoch",
       "layout": "IPY_MODEL_3fb2b82dd7b64b2d96950dc9d0202b02",
       "max": 1,
       "style": "IPY_MODEL_11e7fdb860ef49ac8f2920e27e1afe67",
       "value": 1
      }
     },
     "fdf57fdeda2e44e88b17f2291b032a47": {
      "model_module": "@jupyter-widgets/base",
      "model_module_version": "1.1.0",
      "model_name": "LayoutModel",
      "state": {}
     }
    },
    "version_major": 2,
    "version_minor": 0
   }
  }
 },
 "nbformat": 4,
 "nbformat_minor": 2
}
